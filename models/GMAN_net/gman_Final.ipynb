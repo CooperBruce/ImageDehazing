{
  "nbformat": 4,
  "nbformat_minor": 0,
  "metadata": {
    "kernelspec": {
      "name": "python3",
      "display_name": "Python 3",
      "language": "python"
    },
    "language_info": {
      "name": "python",
      "version": "3.7.6",
      "mimetype": "text/x-python",
      "codemirror_mode": {
        "name": "ipython",
        "version": 3
      },
      "pygments_lexer": "ipython3",
      "nbconvert_exporter": "python",
      "file_extension": ".py"
    },
    "colab": {
      "name": "gman-net-for-image-dehazing.ipynb",
      "provenance": [],
      "include_colab_link": true
    }
  },
  "cells": [
    {
      "cell_type": "markdown",
      "metadata": {
        "id": "view-in-github",
        "colab_type": "text"
      },
      "source": [
        "<a href=\"https://colab.research.google.com/github/abubakrsiddq/ImageDehazing/blob/main/models/GMAN_net/gman_Final.ipynb\" target=\"_parent\"><img src=\"https://colab.research.google.com/assets/colab-badge.svg\" alt=\"Open In Colab\"/></a>"
      ]
    },
    {
      "cell_type": "code",
      "metadata": {
        "_uuid": "d629ff2d2480ee46fbb7e2d37f6b5fab8052498a",
        "_cell_guid": "79c7e3d0-c299-4dcb-8224-4455121ee9b0",
        "trusted": true,
        "scrolled": false,
        "id": "N39U696_KnKD"
      },
      "source": [
        "import os\n",
        "import numpy as np\n",
        "import matplotlib.pyplot as plt\n",
        "%matplotlib inline\n",
        "import glob\n",
        "import random\n",
        "from PIL import Image\n",
        "import time\n",
        "import datetime\n",
        "\n",
        "import tensorflow as tf\n",
        "from tensorflow.keras.layers import *\n",
        "from tensorflow.keras.models import Model\n",
        "from tensorflow.keras.losses import mean_squared_error\n",
        "from tensorflow.keras.optimizers import Adam"
      ],
      "execution_count": 1,
      "outputs": []
    },
    {
      "cell_type": "code",
      "metadata": {
        "colab": {
          "base_uri": "https://localhost:8080/"
        },
        "id": "NetxtfKRKv7K",
        "outputId": "77076622-5ef7-49db-eb1f-351b5559afc0"
      },
      "source": [
        "from google.colab import drive\n",
        "drive.mount('/content/drive')"
      ],
      "execution_count": 6,
      "outputs": [
        {
          "output_type": "stream",
          "text": [
            "Mounted at /content/drive\n"
          ],
          "name": "stdout"
        }
      ]
    },
    {
      "cell_type": "markdown",
      "metadata": {
        "id": "8FE6nygwKnKd"
      },
      "source": [
        "# Preprocessing and loading of data"
      ]
    },
    {
      "cell_type": "code",
      "metadata": {
        "id": "-VQvDpNGaB_l"
      },
      "source": [
        "#ls drive/MyDrive/reside/archive/clear_images drive/MyDrive/reside/archive/haze  "
      ],
      "execution_count": 3,
      "outputs": []
    },
    {
      "cell_type": "code",
      "metadata": {
        "trusted": true,
        "scrolled": false,
        "id": "uk0gyj-8KnKe"
      },
      "source": [
        "# function to load the image in the form of tensors.\n",
        "\n",
        "def load_image(img_path):\n",
        "    img = tf.io.read_file(img_path)\n",
        "    img = tf.io.decode_jpeg(img, channels = 3)\n",
        "    img = tf.image.resize(img, size = (412, 548), antialias = True)\n",
        "    img = img / 255.0\n",
        "    return img"
      ],
      "execution_count": 4,
      "outputs": []
    },
    {
      "cell_type": "code",
      "metadata": {
        "trusted": true,
        "scrolled": false,
        "id": "vvpitygGKnKf",
        "colab": {
          "base_uri": "https://localhost:8080/",
          "height": 118
        },
        "outputId": "b880d173-b049-4fc0-d3ce-ed83270a98f1"
      },
      "source": [
        "# function to get the path of individual image.\n",
        "'''\n",
        "def data_path(orig_img_path, hazy_img_path):\n",
        "    \n",
        "    train_img = []\n",
        "    val_img = []\n",
        "    \n",
        "    orig_img = glob.glob(orig_img_path + '/*.jpg')\n",
        "    n = len(orig_img)\n",
        "    random.shuffle(orig_img)\n",
        "    train_keys = orig_img[:int(0.9*n)]        #90% data for train, 10% for test\n",
        "    val_keys = orig_img[int(0.9*n):]\n",
        "    \n",
        "    split_dict = {}\n",
        "    for key in train_keys:\n",
        "        split_dict[key] = 'train'\n",
        "    for key in val_keys:\n",
        "        split_dict[key] = 'val'\n",
        "        \n",
        "    hazy_img = glob.glob(hazy_img_path + '/*.jpg')\n",
        "    for img in hazy_img:\n",
        "        img_name = img.split('/')[-1]\n",
        "        orig_path = orig_img_path + '/' + img_name.split('_')[0] + '.jpg'\n",
        "        if (split_dict[orig_path] == 'train'):\n",
        "            train_img.append([img, orig_path])\n",
        "        else:\n",
        "            val_img.append([img, orig_path])\n",
        "            \n",
        "    return train_img, val_img\n",
        "    '''"
      ],
      "execution_count": 5,
      "outputs": [
        {
          "output_type": "execute_result",
          "data": {
            "application/vnd.google.colaboratory.intrinsic+json": {
              "type": "string"
            },
            "text/plain": [
              "\"\\ndef data_path(orig_img_path, hazy_img_path):\\n    \\n    train_img = []\\n    val_img = []\\n    \\n    orig_img = glob.glob(orig_img_path + '/*.jpg')\\n    n = len(orig_img)\\n    random.shuffle(orig_img)\\n    train_keys = orig_img[:int(0.9*n)]        #90% data for train, 10% for test\\n    val_keys = orig_img[int(0.9*n):]\\n    \\n    split_dict = {}\\n    for key in train_keys:\\n        split_dict[key] = 'train'\\n    for key in val_keys:\\n        split_dict[key] = 'val'\\n        \\n    hazy_img = glob.glob(hazy_img_path + '/*.jpg')\\n    for img in hazy_img:\\n        img_name = img.split('/')[-1]\\n        orig_path = orig_img_path + '/' + img_name.split('_')[0] + '.jpg'\\n        if (split_dict[orig_path] == 'train'):\\n            train_img.append([img, orig_path])\\n        else:\\n            val_img.append([img, orig_path])\\n            \\n    return train_img, val_img\\n    \""
            ]
          },
          "metadata": {
            "tags": []
          },
          "execution_count": 5
        }
      ]
    },
    {
      "cell_type": "code",
      "metadata": {
        "id": "i_AfOmlD7n8X"
      },
      "source": [
        "def dataset_preposses(orig_path='/content/drive/MyDrive/dataset/clear_images',haze_path='/content/drive/MyDrive/dataset/haze',percentage=0.05,validation_size=64,test_size=64,seed_val=101):\n",
        "  '''\n",
        "  parameters:\n",
        "  orig_path(string): path of ground truth folder\n",
        "  haze_path(string): path of haze folder\n",
        "  percentage(float): percentage of dataset to load\n",
        "  validation_size(int): the no. of validation images\n",
        "  test_size(int): the no. of test images\n",
        "\n",
        "  returns:\n",
        "  haze_list,validation_list,test_list\n",
        "  '''\n",
        "  random.seed(seed_val)\n",
        "  pth=haze_path+'/*.jpg'\n",
        "  haze_path_list = glob.glob(pth)\n",
        "  orig_path_list=glob.glob(orig_path+'/*.jpg')\n",
        "  #print(orig_path_list)\n",
        "  random.shuffle(haze_path_list)\n",
        "  #print(haze_path_list)\n",
        "  haze_path_dict={}\n",
        "  haze_count_dict={}\n",
        "  haze_list=[]\n",
        "  no_per_set=int(percentage*35)\n",
        "  for i in haze_path_list:\n",
        "    name=i.split('/')[-1].split('_')[0]\n",
        "    if(int(name)>468):\n",
        "      try:\n",
        "        if(haze_count_dict[name]<no_per_set):\n",
        "          haze_path_dict[name].append(i)\n",
        "          \n",
        "          haze_count_dict[name]+=1;\n",
        "          \n",
        "      except KeyError:\n",
        "       \n",
        "        haze_path_dict[name]=[]\n",
        "        haze_path_dict[name].append(i)\n",
        "        haze_count_dict[name]=1\n",
        "    #print(haze_path_dict)\n",
        "  test_list=haze_path_list[-1*test_size:]\n",
        "  val_list=haze_path_list[-1*(validation_size+test_size):-1*test_size];\n",
        "\n",
        "  for (key,val) in haze_path_dict.items():\n",
        "    for i in val:\n",
        "      haze_list.append(i)\n",
        "  return haze_list,val_list,test_list\n",
        "\n",
        "\n",
        "def gen_dataset(ar):\n",
        "  '''\n",
        "  parameters\n",
        "  list of paths\n",
        "  return\n",
        "  list with gt attached \n",
        "  '''\n",
        "  orig_path='/content/drive/MyDrive/dataset/clear_images'\n",
        "  haze_pth='/content/drive/MyDrive/dataset/haze'\n",
        "  lst=[]\n",
        "  for i in ar:\n",
        "    name=i.split('/')[-1].split('_')[0]\n",
        "    pthlist=[i,orig_path+'/'+name+'.jpg']\n",
        "    lst.append(pthlist)\n",
        "  return lst\n",
        "\n",
        "def data_path(orig_img_path = './drive/MyDrive/reside/archive/clear_images', hazy_img_path = './drive/MyDrive/reside/archive/haze'):\n",
        "  \n",
        "  (a,b,c)=dataset_preposses(orig_path=orig_img_path,haze_path=hazy_img_path)\n",
        "  a=gen_dataset(a)\n",
        "  b=gen_dataset(b)\n",
        "  return a,b"
      ],
      "execution_count": 14,
      "outputs": []
    },
    {
      "cell_type": "code",
      "metadata": {
        "trusted": true,
        "scrolled": false,
        "id": "D-194d5sKnKg"
      },
      "source": [
        "# function to load tensor image data in batches.\n",
        "\n",
        "def dataloader(train_data, val_data, batch_size):\n",
        "    \n",
        "    train_data_orig = tf.data.Dataset.from_tensor_slices([img[1] for img in train_data]).map(lambda x: load_image(x))\n",
        "    train_data_haze = tf.data.Dataset.from_tensor_slices([img[0] for img in train_data]).map(lambda x: load_image(x))\n",
        "    train = tf.data.Dataset.zip((train_data_haze, train_data_orig)).shuffle(buffer_size=100).batch(batch_size)\n",
        "    \n",
        "    val_data_orig = tf.data.Dataset.from_tensor_slices([img[1] for img in val_data]).map(lambda x: load_image(x))\n",
        "    val_data_haze = tf.data.Dataset.from_tensor_slices([img[0] for img in val_data]).map(lambda x: load_image(x))\n",
        "    val = tf.data.Dataset.zip((val_data_haze, val_data_orig)).shuffle(buffer_size=100).batch(batch_size)\n",
        "    \n",
        "    return train, val"
      ],
      "execution_count": 7,
      "outputs": []
    },
    {
      "cell_type": "code",
      "metadata": {
        "trusted": true,
        "scrolled": false,
        "id": "2aU_zzDHKnKh"
      },
      "source": [
        "# function to display output.\n",
        "\n",
        "def display_img(model, hazy_img, orig_img):\n",
        "    \n",
        "    dehazed_img = model(hazy_img, training = True)\n",
        "    plt.figure(figsize = (15,15))\n",
        "    \n",
        "    display_list = [hazy_img[0], orig_img[0], dehazed_img[0]]\n",
        "    title = ['Hazy Image', 'Ground Truth', 'Dehazed Image']\n",
        "    \n",
        "    for i in range(3):\n",
        "        plt.subplot(1, 3, i+1)\n",
        "        plt.title(title[i])\n",
        "        plt.imshow(display_list[i])\n",
        "        plt.axis('off')\n",
        "        \n",
        "    plt.show()"
      ],
      "execution_count": 8,
      "outputs": []
    },
    {
      "cell_type": "markdown",
      "metadata": {
        "id": "uuypKuZZKnKi"
      },
      "source": [
        "# Network Function"
      ]
    },
    {
      "cell_type": "code",
      "metadata": {
        "trusted": true,
        "scrolled": false,
        "_kg_hide-input": true,
        "id": "WRCns3vCKnKi"
      },
      "source": [
        "class gman_net():"
      ],
      "execution_count": 4,
      "outputs": []
    },
    {
      "cell_type": "code",
      "metadata": {
        "id": "N3_vsnPJ8Vlt",
        "colab": {
          "base_uri": "https://localhost:8080/",
          "height": 359
        },
        "outputId": "b8efc056-5cc0-4450-f0e0-b7306fc2db94"
      },
      "source": [
        "model=gman_net()\n",
        "model.build([413,550,3])\n",
        "model.summary()\n",
        "dot_img_file = '/tmp/model_1.png'\n",
        "tf.keras.utils.plot_model(model, to_file=dot_img_file, show_shapes=True)"
      ],
      "execution_count": 5,
      "outputs": [
        {
          "output_type": "error",
          "ename": "TypeError",
          "evalue": "ignored",
          "traceback": [
            "\u001b[0;31m---------------------------------------------------------------------------\u001b[0m",
            "\u001b[0;31mTypeError\u001b[0m                                 Traceback (most recent call last)",
            "\u001b[0;32m<ipython-input-5-5bd71d2e2729>\u001b[0m in \u001b[0;36m<module>\u001b[0;34m()\u001b[0m\n\u001b[0;32m----> 1\u001b[0;31m \u001b[0mmodel\u001b[0m\u001b[0;34m=\u001b[0m\u001b[0mgman_net\u001b[0m\u001b[0;34m(\u001b[0m\u001b[0;34m)\u001b[0m\u001b[0;34m\u001b[0m\u001b[0;34m\u001b[0m\u001b[0m\n\u001b[0m\u001b[1;32m      2\u001b[0m \u001b[0mmodel\u001b[0m\u001b[0;34m.\u001b[0m\u001b[0mbuild\u001b[0m\u001b[0;34m(\u001b[0m\u001b[0;34m[\u001b[0m\u001b[0;36m413\u001b[0m\u001b[0;34m,\u001b[0m\u001b[0;36m550\u001b[0m\u001b[0;34m,\u001b[0m\u001b[0;36m3\u001b[0m\u001b[0;34m]\u001b[0m\u001b[0;34m)\u001b[0m\u001b[0;34m\u001b[0m\u001b[0;34m\u001b[0m\u001b[0m\n\u001b[1;32m      3\u001b[0m \u001b[0mmodel\u001b[0m\u001b[0;34m.\u001b[0m\u001b[0msummary\u001b[0m\u001b[0;34m(\u001b[0m\u001b[0;34m)\u001b[0m\u001b[0;34m\u001b[0m\u001b[0;34m\u001b[0m\u001b[0m\n\u001b[1;32m      4\u001b[0m \u001b[0mdot_img_file\u001b[0m \u001b[0;34m=\u001b[0m \u001b[0;34m'/tmp/model_1.png'\u001b[0m\u001b[0;34m\u001b[0m\u001b[0;34m\u001b[0m\u001b[0m\n\u001b[1;32m      5\u001b[0m \u001b[0mtf\u001b[0m\u001b[0;34m.\u001b[0m\u001b[0mkeras\u001b[0m\u001b[0;34m.\u001b[0m\u001b[0mutils\u001b[0m\u001b[0;34m.\u001b[0m\u001b[0mplot_model\u001b[0m\u001b[0;34m(\u001b[0m\u001b[0mmodel\u001b[0m\u001b[0;34m,\u001b[0m \u001b[0mto_file\u001b[0m\u001b[0;34m=\u001b[0m\u001b[0mdot_img_file\u001b[0m\u001b[0;34m,\u001b[0m \u001b[0mshow_shapes\u001b[0m\u001b[0;34m=\u001b[0m\u001b[0;32mTrue\u001b[0m\u001b[0;34m)\u001b[0m\u001b[0;34m\u001b[0m\u001b[0;34m\u001b[0m\u001b[0m\n",
            "\u001b[0;32m<ipython-input-4-73280a3ac17d>\u001b[0m in \u001b[0;36mgman_net\u001b[0;34m()\u001b[0m\n\u001b[1;32m     27\u001b[0m     conv1_3 = Conv2D(filters = 64, kernel_size = 3, strides = 1, padding = 'same', kernel_initializer = tf.keras.initializers.glorot_normal(seed = 101),\n\u001b[1;32m     28\u001b[0m                    bias_initializer = b_init, kernel_regularizer = regularizer)(conv1_2)\n\u001b[0;32m---> 29\u001b[0;31m     \u001b[0mconc1\u001b[0m \u001b[0;34m=\u001b[0m \u001b[0mtf\u001b[0m\u001b[0;34m.\u001b[0m\u001b[0mkeras\u001b[0m\u001b[0;34m.\u001b[0m\u001b[0mlayers\u001b[0m\u001b[0;34m.\u001b[0m\u001b[0madd\u001b[0m\u001b[0;34m(\u001b[0m\u001b[0mconv1_3\u001b[0m\u001b[0;34m,\u001b[0m \u001b[0mconv1_1\u001b[0m\u001b[0;34m)\u001b[0m\u001b[0;34m\u001b[0m\u001b[0;34m\u001b[0m\u001b[0m\n\u001b[0m\u001b[1;32m     30\u001b[0m     \u001b[0mconv1\u001b[0m \u001b[0;34m=\u001b[0m \u001b[0mtf\u001b[0m\u001b[0;34m.\u001b[0m\u001b[0mkeras\u001b[0m\u001b[0;34m.\u001b[0m\u001b[0mactivations\u001b[0m\u001b[0;34m.\u001b[0m\u001b[0mrelu\u001b[0m\u001b[0;34m(\u001b[0m\u001b[0mconc1\u001b[0m\u001b[0;34m)\u001b[0m\u001b[0;34m\u001b[0m\u001b[0;34m\u001b[0m\u001b[0m\n\u001b[1;32m     31\u001b[0m \u001b[0;34m\u001b[0m\u001b[0m\n",
            "\u001b[0;31mTypeError\u001b[0m: add() takes 1 positional argument but 2 were given"
          ]
        }
      ]
    },
    {
      "cell_type": "code",
      "metadata": {
        "trusted": true,
        "scrolled": false,
        "id": "HhB7n03AKnKo",
        "colab": {
          "base_uri": "https://localhost:8080/",
          "height": 884
        },
        "outputId": "0dfb4d6c-7652-4d45-9a40-c9bdb647b0dd"
      },
      "source": [
        "# Hyperparameters\n",
        "epochs =1\n",
        "batch_size = 8\n",
        "k_init = tf.keras.initializers.random_normal(stddev=0.008, seed = 101)      \n",
        "regularizer = tf.keras.regularizers.L2(1e-4)\n",
        "b_init = tf.constant_initializer()\n",
        "\n",
        "#train_data, val_data = data_path(orig_img_path = './drive/MyDrive/reside/archive/clear_images', hazy_img_path = './drive/MyDrive/reside/archive/haze')\n",
        "train_data, val_data = data_path(orig_img_path = '/content/drive/MyDrive/dataset/clear_images', hazy_img_path = '/content/drive/MyDrive/dataset/haze')\n",
        "train, val = dataloader(train_data, val_data, batch_size)\n",
        "\n",
        "optimizer = Adam(learning_rate = 1e-4)\n",
        "net = gman_net()\n",
        "#net= tf.keras.models.load_model('/content/drive/MyDrive/demo/gman/saved_model',compile=False)\n",
        "net= net.load_weights('/content/drive/MyDrive/nets/gman/weights')\n",
        "train_loss_tracker = tf.keras.metrics.MeanSquaredError(name = \"train loss\")\n",
        "val_loss_tracker = tf.keras.metrics.MeanSquaredError(name = \"val loss\")"
      ],
      "execution_count": 26,
      "outputs": [
        {
          "output_type": "stream",
          "text": [
            "WARNING:tensorflow:Inconsistent references when loading the checkpoint into this object graph. Either the Trackable object references in the Python program have changed in an incompatible way, or the checkpoint was generated in an incompatible program.\n",
            "\n",
            "Two checkpoint references resolved to different objects (<tensorflow.python.keras.layers.convolutional.Conv2D object at 0x7f09a2170450> and <tensorflow.python.keras.layers.core.TFOpLambda object at 0x7f09a24e2a10>).\n"
          ],
          "name": "stdout"
        },
        {
          "output_type": "stream",
          "text": [
            "WARNING:tensorflow:Inconsistent references when loading the checkpoint into this object graph. Either the Trackable object references in the Python program have changed in an incompatible way, or the checkpoint was generated in an incompatible program.\n",
            "\n",
            "Two checkpoint references resolved to different objects (<tensorflow.python.keras.layers.convolutional.Conv2D object at 0x7f09a2170450> and <tensorflow.python.keras.layers.core.TFOpLambda object at 0x7f09a24e2a10>).\n"
          ],
          "name": "stderr"
        },
        {
          "output_type": "stream",
          "text": [
            "WARNING:tensorflow:Inconsistent references when loading the checkpoint into this object graph. Either the Trackable object references in the Python program have changed in an incompatible way, or the checkpoint was generated in an incompatible program.\n",
            "\n",
            "Two checkpoint references resolved to different objects (<tensorflow.python.keras.layers.convolutional.Conv2D object at 0x7f09a249b850> and <tensorflow.python.keras.layers.core.TFOpLambda object at 0x7f09a20a5210>).\n"
          ],
          "name": "stdout"
        },
        {
          "output_type": "stream",
          "text": [
            "WARNING:tensorflow:Inconsistent references when loading the checkpoint into this object graph. Either the Trackable object references in the Python program have changed in an incompatible way, or the checkpoint was generated in an incompatible program.\n",
            "\n",
            "Two checkpoint references resolved to different objects (<tensorflow.python.keras.layers.convolutional.Conv2D object at 0x7f09a249b850> and <tensorflow.python.keras.layers.core.TFOpLambda object at 0x7f09a20a5210>).\n"
          ],
          "name": "stderr"
        },
        {
          "output_type": "stream",
          "text": [
            "WARNING:tensorflow:Inconsistent references when loading the checkpoint into this object graph. Either the Trackable object references in the Python program have changed in an incompatible way, or the checkpoint was generated in an incompatible program.\n",
            "\n",
            "Two checkpoint references resolved to different objects (<tensorflow.python.keras.layers.convolutional.Conv2D object at 0x7f09a21c4790> and <tensorflow.python.keras.layers.core.TFOpLambda object at 0x7f09958ae510>).\n"
          ],
          "name": "stdout"
        },
        {
          "output_type": "stream",
          "text": [
            "WARNING:tensorflow:Inconsistent references when loading the checkpoint into this object graph. Either the Trackable object references in the Python program have changed in an incompatible way, or the checkpoint was generated in an incompatible program.\n",
            "\n",
            "Two checkpoint references resolved to different objects (<tensorflow.python.keras.layers.convolutional.Conv2D object at 0x7f09a21c4790> and <tensorflow.python.keras.layers.core.TFOpLambda object at 0x7f09958ae510>).\n"
          ],
          "name": "stderr"
        },
        {
          "output_type": "stream",
          "text": [
            "WARNING:tensorflow:Inconsistent references when loading the checkpoint into this object graph. Either the Trackable object references in the Python program have changed in an incompatible way, or the checkpoint was generated in an incompatible program.\n",
            "\n",
            "Two checkpoint references resolved to different objects (<tensorflow.python.keras.layers.convolutional.Conv2D object at 0x7f0994c5ce50> and <tensorflow.python.keras.layers.core.TFOpLambda object at 0x7f09a20470d0>).\n"
          ],
          "name": "stdout"
        },
        {
          "output_type": "stream",
          "text": [
            "WARNING:tensorflow:Inconsistent references when loading the checkpoint into this object graph. Either the Trackable object references in the Python program have changed in an incompatible way, or the checkpoint was generated in an incompatible program.\n",
            "\n",
            "Two checkpoint references resolved to different objects (<tensorflow.python.keras.layers.convolutional.Conv2D object at 0x7f0994c5ce50> and <tensorflow.python.keras.layers.core.TFOpLambda object at 0x7f09a20470d0>).\n"
          ],
          "name": "stderr"
        },
        {
          "output_type": "stream",
          "text": [
            "WARNING:tensorflow:Inconsistent references when loading the checkpoint into this object graph. Either the Trackable object references in the Python program have changed in an incompatible way, or the checkpoint was generated in an incompatible program.\n",
            "\n",
            "Two checkpoint references resolved to different objects (<tensorflow.python.keras.layers.convolutional.Conv2D object at 0x7f0995100a10> and <tensorflow.python.keras.layers.core.TFOpLambda object at 0x7f09a2047cd0>).\n"
          ],
          "name": "stdout"
        },
        {
          "output_type": "stream",
          "text": [
            "WARNING:tensorflow:Inconsistent references when loading the checkpoint into this object graph. Either the Trackable object references in the Python program have changed in an incompatible way, or the checkpoint was generated in an incompatible program.\n",
            "\n",
            "Two checkpoint references resolved to different objects (<tensorflow.python.keras.layers.convolutional.Conv2D object at 0x7f0995100a10> and <tensorflow.python.keras.layers.core.TFOpLambda object at 0x7f09a2047cd0>).\n"
          ],
          "name": "stderr"
        },
        {
          "output_type": "error",
          "ename": "ValueError",
          "evalue": "ignored",
          "traceback": [
            "\u001b[0;31m---------------------------------------------------------------------------\u001b[0m",
            "\u001b[0;31mValueError\u001b[0m                                Traceback (most recent call last)",
            "\u001b[0;32m<ipython-input-26-78bb8694c539>\u001b[0m in \u001b[0;36m<module>\u001b[0;34m()\u001b[0m\n\u001b[1;32m     13\u001b[0m \u001b[0mnet\u001b[0m \u001b[0;34m=\u001b[0m \u001b[0mgman_net\u001b[0m\u001b[0;34m(\u001b[0m\u001b[0;34m)\u001b[0m\u001b[0;34m\u001b[0m\u001b[0;34m\u001b[0m\u001b[0m\n\u001b[1;32m     14\u001b[0m \u001b[0;31m#net= tf.keras.models.load_model('/content/drive/MyDrive/demo/gman/saved_model',compile=False)\u001b[0m\u001b[0;34m\u001b[0m\u001b[0;34m\u001b[0m\u001b[0;34m\u001b[0m\u001b[0m\n\u001b[0;32m---> 15\u001b[0;31m \u001b[0mnet\u001b[0m\u001b[0;34m=\u001b[0m \u001b[0mnet\u001b[0m\u001b[0;34m.\u001b[0m\u001b[0mload_weights\u001b[0m\u001b[0;34m(\u001b[0m\u001b[0;34m'/content/drive/MyDrive/nets/gman/weights'\u001b[0m\u001b[0;34m)\u001b[0m\u001b[0;34m\u001b[0m\u001b[0;34m\u001b[0m\u001b[0m\n\u001b[0m\u001b[1;32m     16\u001b[0m \u001b[0mtrain_loss_tracker\u001b[0m \u001b[0;34m=\u001b[0m \u001b[0mtf\u001b[0m\u001b[0;34m.\u001b[0m\u001b[0mkeras\u001b[0m\u001b[0;34m.\u001b[0m\u001b[0mmetrics\u001b[0m\u001b[0;34m.\u001b[0m\u001b[0mMeanSquaredError\u001b[0m\u001b[0;34m(\u001b[0m\u001b[0mname\u001b[0m \u001b[0;34m=\u001b[0m \u001b[0;34m\"train loss\"\u001b[0m\u001b[0;34m)\u001b[0m\u001b[0;34m\u001b[0m\u001b[0;34m\u001b[0m\u001b[0m\n\u001b[1;32m     17\u001b[0m \u001b[0mval_loss_tracker\u001b[0m \u001b[0;34m=\u001b[0m \u001b[0mtf\u001b[0m\u001b[0;34m.\u001b[0m\u001b[0mkeras\u001b[0m\u001b[0;34m.\u001b[0m\u001b[0mmetrics\u001b[0m\u001b[0;34m.\u001b[0m\u001b[0mMeanSquaredError\u001b[0m\u001b[0;34m(\u001b[0m\u001b[0mname\u001b[0m \u001b[0;34m=\u001b[0m \u001b[0;34m\"val loss\"\u001b[0m\u001b[0;34m)\u001b[0m\u001b[0;34m\u001b[0m\u001b[0;34m\u001b[0m\u001b[0m\n",
            "\u001b[0;32m/usr/local/lib/python3.7/dist-packages/tensorflow/python/keras/engine/training.py\u001b[0m in \u001b[0;36mload_weights\u001b[0;34m(self, filepath, by_name, skip_mismatch, options)\u001b[0m\n\u001b[1;32m   2203\u001b[0m         \u001b[0msave_format\u001b[0m \u001b[0;34m=\u001b[0m \u001b[0;34m'h5'\u001b[0m\u001b[0;34m\u001b[0m\u001b[0;34m\u001b[0m\u001b[0m\n\u001b[1;32m   2204\u001b[0m     \u001b[0;32mif\u001b[0m \u001b[0msave_format\u001b[0m \u001b[0;34m==\u001b[0m \u001b[0;34m'tf'\u001b[0m\u001b[0;34m:\u001b[0m\u001b[0;34m\u001b[0m\u001b[0;34m\u001b[0m\u001b[0m\n\u001b[0;32m-> 2205\u001b[0;31m       \u001b[0mstatus\u001b[0m \u001b[0;34m=\u001b[0m \u001b[0mself\u001b[0m\u001b[0;34m.\u001b[0m\u001b[0m_trackable_saver\u001b[0m\u001b[0;34m.\u001b[0m\u001b[0mrestore\u001b[0m\u001b[0;34m(\u001b[0m\u001b[0mfilepath\u001b[0m\u001b[0;34m,\u001b[0m \u001b[0moptions\u001b[0m\u001b[0;34m)\u001b[0m\u001b[0;34m\u001b[0m\u001b[0;34m\u001b[0m\u001b[0m\n\u001b[0m\u001b[1;32m   2206\u001b[0m       \u001b[0;32mif\u001b[0m \u001b[0mby_name\u001b[0m\u001b[0;34m:\u001b[0m\u001b[0;34m\u001b[0m\u001b[0;34m\u001b[0m\u001b[0m\n\u001b[1;32m   2207\u001b[0m         raise NotImplementedError(\n",
            "\u001b[0;32m/usr/local/lib/python3.7/dist-packages/tensorflow/python/training/tracking/util.py\u001b[0m in \u001b[0;36mrestore\u001b[0;34m(self, save_path, options)\u001b[0m\n\u001b[1;32m   1335\u001b[0m         options=options)\n\u001b[1;32m   1336\u001b[0m     base.CheckpointPosition(\n\u001b[0;32m-> 1337\u001b[0;31m         checkpoint=checkpoint, proto_id=0).restore(self._graph_view.root)\n\u001b[0m\u001b[1;32m   1338\u001b[0m \u001b[0;34m\u001b[0m\u001b[0m\n\u001b[1;32m   1339\u001b[0m     \u001b[0;31m# Attached dependencies are not attached to the root, so should be restored\u001b[0m\u001b[0;34m\u001b[0m\u001b[0;34m\u001b[0m\u001b[0;34m\u001b[0m\u001b[0m\n",
            "\u001b[0;32m/usr/local/lib/python3.7/dist-packages/tensorflow/python/training/tracking/base.py\u001b[0m in \u001b[0;36mrestore\u001b[0;34m(self, trackable)\u001b[0m\n\u001b[1;32m    251\u001b[0m         \u001b[0;31m# This object's correspondence with a checkpointed object is new, so\u001b[0m\u001b[0;34m\u001b[0m\u001b[0;34m\u001b[0m\u001b[0;34m\u001b[0m\u001b[0m\n\u001b[1;32m    252\u001b[0m         \u001b[0;31m# process deferred restorations for it and its dependencies.\u001b[0m\u001b[0;34m\u001b[0m\u001b[0;34m\u001b[0m\u001b[0;34m\u001b[0m\u001b[0m\n\u001b[0;32m--> 253\u001b[0;31m         \u001b[0mrestore_ops\u001b[0m \u001b[0;34m=\u001b[0m \u001b[0mtrackable\u001b[0m\u001b[0;34m.\u001b[0m\u001b[0m_restore_from_checkpoint_position\u001b[0m\u001b[0;34m(\u001b[0m\u001b[0mself\u001b[0m\u001b[0;34m)\u001b[0m  \u001b[0;31m# pylint: disable=protected-access\u001b[0m\u001b[0;34m\u001b[0m\u001b[0;34m\u001b[0m\u001b[0m\n\u001b[0m\u001b[1;32m    254\u001b[0m         \u001b[0;32mif\u001b[0m \u001b[0mrestore_ops\u001b[0m\u001b[0;34m:\u001b[0m\u001b[0;34m\u001b[0m\u001b[0;34m\u001b[0m\u001b[0m\n\u001b[1;32m    255\u001b[0m           \u001b[0mself\u001b[0m\u001b[0;34m.\u001b[0m\u001b[0m_checkpoint\u001b[0m\u001b[0;34m.\u001b[0m\u001b[0mnew_restore_ops\u001b[0m\u001b[0;34m(\u001b[0m\u001b[0mrestore_ops\u001b[0m\u001b[0;34m)\u001b[0m\u001b[0;34m\u001b[0m\u001b[0;34m\u001b[0m\u001b[0m\n",
            "\u001b[0;32m/usr/local/lib/python3.7/dist-packages/tensorflow/python/training/tracking/base.py\u001b[0m in \u001b[0;36m_restore_from_checkpoint_position\u001b[0;34m(self, checkpoint_position)\u001b[0m\n\u001b[1;32m    971\u001b[0m     restore_ops.extend(\n\u001b[1;32m    972\u001b[0m         current_position.checkpoint.restore_saveables(\n\u001b[0;32m--> 973\u001b[0;31m             tensor_saveables, python_saveables))\n\u001b[0m\u001b[1;32m    974\u001b[0m     \u001b[0;32mreturn\u001b[0m \u001b[0mrestore_ops\u001b[0m\u001b[0;34m\u001b[0m\u001b[0;34m\u001b[0m\u001b[0m\n\u001b[1;32m    975\u001b[0m \u001b[0;34m\u001b[0m\u001b[0m\n",
            "\u001b[0;32m/usr/local/lib/python3.7/dist-packages/tensorflow/python/training/tracking/util.py\u001b[0m in \u001b[0;36mrestore_saveables\u001b[0;34m(self, tensor_saveables, python_saveables)\u001b[0m\n\u001b[1;32m    306\u001b[0m              \"expecting %s\") % (tensor_saveables.keys(), validated_names))\n\u001b[1;32m    307\u001b[0m       new_restore_ops = functional_saver.MultiDeviceSaver(\n\u001b[0;32m--> 308\u001b[0;31m           validated_saveables).restore(self.save_path_tensor, self.options)\n\u001b[0m\u001b[1;32m    309\u001b[0m       \u001b[0;32mif\u001b[0m \u001b[0;32mnot\u001b[0m \u001b[0mcontext\u001b[0m\u001b[0;34m.\u001b[0m\u001b[0mexecuting_eagerly\u001b[0m\u001b[0;34m(\u001b[0m\u001b[0;34m)\u001b[0m\u001b[0;34m:\u001b[0m\u001b[0;34m\u001b[0m\u001b[0;34m\u001b[0m\u001b[0m\n\u001b[1;32m    310\u001b[0m         \u001b[0;32mfor\u001b[0m \u001b[0mname\u001b[0m\u001b[0;34m,\u001b[0m \u001b[0mrestore_op\u001b[0m \u001b[0;32min\u001b[0m \u001b[0msorted\u001b[0m\u001b[0;34m(\u001b[0m\u001b[0mnew_restore_ops\u001b[0m\u001b[0;34m.\u001b[0m\u001b[0mitems\u001b[0m\u001b[0;34m(\u001b[0m\u001b[0;34m)\u001b[0m\u001b[0;34m)\u001b[0m\u001b[0;34m:\u001b[0m\u001b[0;34m\u001b[0m\u001b[0;34m\u001b[0m\u001b[0m\n",
            "\u001b[0;32m/usr/local/lib/python3.7/dist-packages/tensorflow/python/training/saving/functional_saver.py\u001b[0m in \u001b[0;36mrestore\u001b[0;34m(self, file_prefix, options)\u001b[0m\n\u001b[1;32m    343\u001b[0m       \u001b[0mrestore_ops\u001b[0m \u001b[0;34m=\u001b[0m \u001b[0mtf_function_restore\u001b[0m\u001b[0;34m(\u001b[0m\u001b[0;34m)\u001b[0m\u001b[0;34m\u001b[0m\u001b[0;34m\u001b[0m\u001b[0m\n\u001b[1;32m    344\u001b[0m     \u001b[0;32melse\u001b[0m\u001b[0;34m:\u001b[0m\u001b[0;34m\u001b[0m\u001b[0;34m\u001b[0m\u001b[0m\n\u001b[0;32m--> 345\u001b[0;31m       \u001b[0mrestore_ops\u001b[0m \u001b[0;34m=\u001b[0m \u001b[0mrestore_fn\u001b[0m\u001b[0;34m(\u001b[0m\u001b[0;34m)\u001b[0m\u001b[0;34m\u001b[0m\u001b[0;34m\u001b[0m\u001b[0m\n\u001b[0m\u001b[1;32m    346\u001b[0m \u001b[0;34m\u001b[0m\u001b[0m\n\u001b[1;32m    347\u001b[0m     \u001b[0;32mfor\u001b[0m \u001b[0mcallback\u001b[0m \u001b[0;32min\u001b[0m \u001b[0mself\u001b[0m\u001b[0;34m.\u001b[0m\u001b[0m_after_restore_callbacks\u001b[0m\u001b[0;34m:\u001b[0m\u001b[0;34m\u001b[0m\u001b[0;34m\u001b[0m\u001b[0m\n",
            "\u001b[0;32m/usr/local/lib/python3.7/dist-packages/tensorflow/python/training/saving/functional_saver.py\u001b[0m in \u001b[0;36mrestore_fn\u001b[0;34m()\u001b[0m\n\u001b[1;32m    319\u001b[0m       \u001b[0;32mfor\u001b[0m \u001b[0mdevice\u001b[0m\u001b[0;34m,\u001b[0m \u001b[0msaver\u001b[0m \u001b[0;32min\u001b[0m \u001b[0msorted\u001b[0m\u001b[0;34m(\u001b[0m\u001b[0mself\u001b[0m\u001b[0;34m.\u001b[0m\u001b[0m_single_device_savers\u001b[0m\u001b[0;34m.\u001b[0m\u001b[0mitems\u001b[0m\u001b[0;34m(\u001b[0m\u001b[0;34m)\u001b[0m\u001b[0;34m)\u001b[0m\u001b[0;34m:\u001b[0m\u001b[0;34m\u001b[0m\u001b[0;34m\u001b[0m\u001b[0m\n\u001b[1;32m    320\u001b[0m         \u001b[0;32mwith\u001b[0m \u001b[0mops\u001b[0m\u001b[0;34m.\u001b[0m\u001b[0mdevice\u001b[0m\u001b[0;34m(\u001b[0m\u001b[0mdevice\u001b[0m\u001b[0;34m)\u001b[0m\u001b[0;34m:\u001b[0m\u001b[0;34m\u001b[0m\u001b[0;34m\u001b[0m\u001b[0m\n\u001b[0;32m--> 321\u001b[0;31m           \u001b[0mrestore_ops\u001b[0m\u001b[0;34m.\u001b[0m\u001b[0mupdate\u001b[0m\u001b[0;34m(\u001b[0m\u001b[0msaver\u001b[0m\u001b[0;34m.\u001b[0m\u001b[0mrestore\u001b[0m\u001b[0;34m(\u001b[0m\u001b[0mfile_prefix\u001b[0m\u001b[0;34m,\u001b[0m \u001b[0moptions\u001b[0m\u001b[0;34m)\u001b[0m\u001b[0;34m)\u001b[0m\u001b[0;34m\u001b[0m\u001b[0;34m\u001b[0m\u001b[0m\n\u001b[0m\u001b[1;32m    322\u001b[0m \u001b[0;34m\u001b[0m\u001b[0m\n\u001b[1;32m    323\u001b[0m       \u001b[0;32mreturn\u001b[0m \u001b[0mrestore_ops\u001b[0m\u001b[0;34m\u001b[0m\u001b[0;34m\u001b[0m\u001b[0m\n",
            "\u001b[0;32m/usr/local/lib/python3.7/dist-packages/tensorflow/python/training/saving/functional_saver.py\u001b[0m in \u001b[0;36mrestore\u001b[0;34m(self, file_prefix, options)\u001b[0m\n\u001b[1;32m    114\u001b[0m                                           structured_restored_tensors):\n\u001b[1;32m    115\u001b[0m       restore_ops[saveable.name] = saveable.restore(\n\u001b[0;32m--> 116\u001b[0;31m           restored_tensors, restored_shapes=None)\n\u001b[0m\u001b[1;32m    117\u001b[0m     \u001b[0;32mreturn\u001b[0m \u001b[0mrestore_ops\u001b[0m\u001b[0;34m\u001b[0m\u001b[0;34m\u001b[0m\u001b[0m\n\u001b[1;32m    118\u001b[0m \u001b[0;34m\u001b[0m\u001b[0m\n",
            "\u001b[0;32m/usr/local/lib/python3.7/dist-packages/tensorflow/python/training/saving/saveable_object_util.py\u001b[0m in \u001b[0;36mrestore\u001b[0;34m(self, restored_tensors, restored_shapes)\u001b[0m\n\u001b[1;32m    130\u001b[0m       \u001b[0mrestored_tensor\u001b[0m \u001b[0;34m=\u001b[0m \u001b[0marray_ops\u001b[0m\u001b[0;34m.\u001b[0m\u001b[0midentity\u001b[0m\u001b[0;34m(\u001b[0m\u001b[0mrestored_tensor\u001b[0m\u001b[0;34m)\u001b[0m\u001b[0;34m\u001b[0m\u001b[0;34m\u001b[0m\u001b[0m\n\u001b[1;32m    131\u001b[0m       return resource_variable_ops.shape_safe_assign_variable_handle(\n\u001b[0;32m--> 132\u001b[0;31m           self.handle_op, self._var_shape, restored_tensor)\n\u001b[0m\u001b[1;32m    133\u001b[0m \u001b[0;34m\u001b[0m\u001b[0m\n\u001b[1;32m    134\u001b[0m \u001b[0;34m\u001b[0m\u001b[0m\n",
            "\u001b[0;32m/usr/local/lib/python3.7/dist-packages/tensorflow/python/ops/resource_variable_ops.py\u001b[0m in \u001b[0;36mshape_safe_assign_variable_handle\u001b[0;34m(handle, shape, value, name)\u001b[0m\n\u001b[1;32m    305\u001b[0m   \u001b[0;32mwith\u001b[0m \u001b[0m_handle_graph\u001b[0m\u001b[0;34m(\u001b[0m\u001b[0mhandle\u001b[0m\u001b[0;34m)\u001b[0m\u001b[0;34m:\u001b[0m\u001b[0;34m\u001b[0m\u001b[0;34m\u001b[0m\u001b[0m\n\u001b[1;32m    306\u001b[0m     \u001b[0mvalue_tensor\u001b[0m \u001b[0;34m=\u001b[0m \u001b[0mops\u001b[0m\u001b[0;34m.\u001b[0m\u001b[0mconvert_to_tensor\u001b[0m\u001b[0;34m(\u001b[0m\u001b[0mvalue\u001b[0m\u001b[0;34m)\u001b[0m\u001b[0;34m\u001b[0m\u001b[0;34m\u001b[0m\u001b[0m\n\u001b[0;32m--> 307\u001b[0;31m   \u001b[0mshape\u001b[0m\u001b[0;34m.\u001b[0m\u001b[0massert_is_compatible_with\u001b[0m\u001b[0;34m(\u001b[0m\u001b[0mvalue_tensor\u001b[0m\u001b[0;34m.\u001b[0m\u001b[0mshape\u001b[0m\u001b[0;34m)\u001b[0m\u001b[0;34m\u001b[0m\u001b[0;34m\u001b[0m\u001b[0m\n\u001b[0m\u001b[1;32m    308\u001b[0m   return gen_resource_variable_ops.assign_variable_op(\n\u001b[1;32m    309\u001b[0m       handle, value_tensor, name=name)\n",
            "\u001b[0;32m/usr/local/lib/python3.7/dist-packages/tensorflow/python/framework/tensor_shape.py\u001b[0m in \u001b[0;36massert_is_compatible_with\u001b[0;34m(self, other)\u001b[0m\n\u001b[1;32m   1132\u001b[0m     \"\"\"\n\u001b[1;32m   1133\u001b[0m     \u001b[0;32mif\u001b[0m \u001b[0;32mnot\u001b[0m \u001b[0mself\u001b[0m\u001b[0;34m.\u001b[0m\u001b[0mis_compatible_with\u001b[0m\u001b[0;34m(\u001b[0m\u001b[0mother\u001b[0m\u001b[0;34m)\u001b[0m\u001b[0;34m:\u001b[0m\u001b[0;34m\u001b[0m\u001b[0;34m\u001b[0m\u001b[0m\n\u001b[0;32m-> 1134\u001b[0;31m       \u001b[0;32mraise\u001b[0m \u001b[0mValueError\u001b[0m\u001b[0;34m(\u001b[0m\u001b[0;34m\"Shapes %s and %s are incompatible\"\u001b[0m \u001b[0;34m%\u001b[0m \u001b[0;34m(\u001b[0m\u001b[0mself\u001b[0m\u001b[0;34m,\u001b[0m \u001b[0mother\u001b[0m\u001b[0;34m)\u001b[0m\u001b[0;34m)\u001b[0m\u001b[0;34m\u001b[0m\u001b[0;34m\u001b[0m\u001b[0m\n\u001b[0m\u001b[1;32m   1135\u001b[0m \u001b[0;34m\u001b[0m\u001b[0m\n\u001b[1;32m   1136\u001b[0m   \u001b[0;32mdef\u001b[0m \u001b[0mmost_specific_compatible_shape\u001b[0m\u001b[0;34m(\u001b[0m\u001b[0mself\u001b[0m\u001b[0;34m,\u001b[0m \u001b[0mother\u001b[0m\u001b[0;34m)\u001b[0m\u001b[0;34m:\u001b[0m\u001b[0;34m\u001b[0m\u001b[0;34m\u001b[0m\u001b[0m\n",
            "\u001b[0;31mValueError\u001b[0m: Shapes (3,) and (64,) are incompatible"
          ]
        }
      ]
    },
    {
      "cell_type": "code",
      "metadata": {
        "trusted": true,
        "scrolled": false,
        "_kg_hide-output": true,
        "id": "L7pz9bV9KnKr"
      },
      "source": [
        "def train_model(epochs, train, val, net, train_loss_tracker, val_loss_tracker, optimizer):\n",
        "    \n",
        "    for epoch in range(epochs):\n",
        "        \n",
        "        print(\"\\nStart of epoch %d\" % (epoch,), end=' ')\n",
        "        start_time_epoch = time.time()\n",
        "        start_time_step = time.time()\n",
        "        \n",
        "        # training loop\n",
        "        \n",
        "        for step, (train_batch_haze, train_batch_orig) in enumerate(train):\n",
        "\n",
        "            with tf.GradientTape() as tape:\n",
        "\n",
        "                train_logits = net(train_batch_haze, training = True)\n",
        "                loss = mean_squared_error(train_batch_orig, train_logits)\n",
        "\n",
        "            grads = tape.gradient(loss, net.trainable_weights)\n",
        "            optimizer.apply_gradients(zip(grads, net.trainable_weights))\n",
        "\n",
        "            train_loss_tracker.update_state(train_batch_orig, train_logits)\n",
        "            if step == 0:\n",
        "                print('[', end='')\n",
        "            if step % 64 == 0:\n",
        "                print('=', end='')\n",
        "        \n",
        "        print(']', end='')\n",
        "        print('  -  ', end='')\n",
        "        print('Training Loss: %.4f' % (train_loss_tracker.result()), end='')\n",
        "        \n",
        "        # validation loop\n",
        "        \n",
        "        for step, (val_batch_haze, val_batch_orig) in enumerate(val):\n",
        "            val_logits = net(val_batch_haze, training = False)\n",
        "            val_loss_tracker.update_state(val_batch_orig, val_logits)\n",
        "            \n",
        "            if step % 32 ==0:\n",
        "                display_img(net, val_batch_haze, val_batch_orig)\n",
        "        \n",
        "        print('  -  ', end='')\n",
        "        print('Validation Loss: %.4f' % (val_loss_tracker.result()), end='')\n",
        "        print('  -  ', end=' ')\n",
        "        print(\"Time taken: %.2fs\" % (time.time() - start_time_epoch))\n",
        "        \n",
        "        net.save('trained_model')           # save the model(variables, weights, etc)\n",
        "        train_loss_tracker.reset_states()\n",
        "        val_loss_tracker.reset_states()"
      ],
      "execution_count": 20,
      "outputs": []
    },
    {
      "cell_type": "code",
      "metadata": {
        "trusted": true,
        "scrolled": true,
        "colab": {
          "base_uri": "https://localhost:8080/",
          "height": 1000
        },
        "id": "sbnB0QNYKnKs",
        "outputId": "39e0569f-7cac-4a59-f0f6-c2bb4af34c9a"
      },
      "source": [
        "%%time\n",
        "train_model(epochs, train, val, net, train_loss_tracker, val_loss_tracker, optimizer)"
      ],
      "execution_count": 17,
      "outputs": [
        {
          "output_type": "stream",
          "text": [
            "\n",
            "Start of epoch 0 WARNING:tensorflow:5 out of the last 1032 calls to <function TensorFlowOpLayer._defun_call at 0x7f09a2dee9e0> triggered tf.function retracing. Tracing is expensive and the excessive number of tracings could be due to (1) creating @tf.function repeatedly in a loop, (2) passing tensors with different shapes, (3) passing Python objects instead of tensors. For (1), please define your @tf.function outside of the loop. For (2), @tf.function has experimental_relax_shapes=True option that relaxes argument shapes that can avoid unnecessary retracing. For (3), please refer to https://www.tensorflow.org/guide/function#controlling_retracing and https://www.tensorflow.org/api_docs/python/tf/function for  more details.\n"
          ],
          "name": "stdout"
        },
        {
          "output_type": "stream",
          "text": [
            "WARNING:tensorflow:5 out of the last 1032 calls to <function TensorFlowOpLayer._defun_call at 0x7f09a2dee9e0> triggered tf.function retracing. Tracing is expensive and the excessive number of tracings could be due to (1) creating @tf.function repeatedly in a loop, (2) passing tensors with different shapes, (3) passing Python objects instead of tensors. For (1), please define your @tf.function outside of the loop. For (2), @tf.function has experimental_relax_shapes=True option that relaxes argument shapes that can avoid unnecessary retracing. For (3), please refer to https://www.tensorflow.org/guide/function#controlling_retracing and https://www.tensorflow.org/api_docs/python/tf/function for  more details.\n"
          ],
          "name": "stderr"
        },
        {
          "output_type": "stream",
          "text": [
            "WARNING:tensorflow:6 out of the last 1033 calls to <function TensorFlowOpLayer._defun_call at 0x7f09a2de5c20> triggered tf.function retracing. Tracing is expensive and the excessive number of tracings could be due to (1) creating @tf.function repeatedly in a loop, (2) passing tensors with different shapes, (3) passing Python objects instead of tensors. For (1), please define your @tf.function outside of the loop. For (2), @tf.function has experimental_relax_shapes=True option that relaxes argument shapes that can avoid unnecessary retracing. For (3), please refer to https://www.tensorflow.org/guide/function#controlling_retracing and https://www.tensorflow.org/api_docs/python/tf/function for  more details.\n"
          ],
          "name": "stdout"
        },
        {
          "output_type": "stream",
          "text": [
            "WARNING:tensorflow:6 out of the last 1033 calls to <function TensorFlowOpLayer._defun_call at 0x7f09a2de5c20> triggered tf.function retracing. Tracing is expensive and the excessive number of tracings could be due to (1) creating @tf.function repeatedly in a loop, (2) passing tensors with different shapes, (3) passing Python objects instead of tensors. For (1), please define your @tf.function outside of the loop. For (2), @tf.function has experimental_relax_shapes=True option that relaxes argument shapes that can avoid unnecessary retracing. For (3), please refer to https://www.tensorflow.org/guide/function#controlling_retracing and https://www.tensorflow.org/api_docs/python/tf/function for  more details.\n"
          ],
          "name": "stderr"
        },
        {
          "output_type": "stream",
          "text": [
            "WARNING:tensorflow:7 out of the last 1034 calls to <function TensorFlowOpLayer._defun_call at 0x7f09a2d82c20> triggered tf.function retracing. Tracing is expensive and the excessive number of tracings could be due to (1) creating @tf.function repeatedly in a loop, (2) passing tensors with different shapes, (3) passing Python objects instead of tensors. For (1), please define your @tf.function outside of the loop. For (2), @tf.function has experimental_relax_shapes=True option that relaxes argument shapes that can avoid unnecessary retracing. For (3), please refer to https://www.tensorflow.org/guide/function#controlling_retracing and https://www.tensorflow.org/api_docs/python/tf/function for  more details.\n"
          ],
          "name": "stdout"
        },
        {
          "output_type": "stream",
          "text": [
            "WARNING:tensorflow:7 out of the last 1034 calls to <function TensorFlowOpLayer._defun_call at 0x7f09a2d82c20> triggered tf.function retracing. Tracing is expensive and the excessive number of tracings could be due to (1) creating @tf.function repeatedly in a loop, (2) passing tensors with different shapes, (3) passing Python objects instead of tensors. For (1), please define your @tf.function outside of the loop. For (2), @tf.function has experimental_relax_shapes=True option that relaxes argument shapes that can avoid unnecessary retracing. For (3), please refer to https://www.tensorflow.org/guide/function#controlling_retracing and https://www.tensorflow.org/api_docs/python/tf/function for  more details.\n"
          ],
          "name": "stderr"
        },
        {
          "output_type": "stream",
          "text": [
            "WARNING:tensorflow:8 out of the last 1035 calls to <function TensorFlowOpLayer._defun_call at 0x7f09a2e728c0> triggered tf.function retracing. Tracing is expensive and the excessive number of tracings could be due to (1) creating @tf.function repeatedly in a loop, (2) passing tensors with different shapes, (3) passing Python objects instead of tensors. For (1), please define your @tf.function outside of the loop. For (2), @tf.function has experimental_relax_shapes=True option that relaxes argument shapes that can avoid unnecessary retracing. For (3), please refer to https://www.tensorflow.org/guide/function#controlling_retracing and https://www.tensorflow.org/api_docs/python/tf/function for  more details.\n"
          ],
          "name": "stdout"
        },
        {
          "output_type": "stream",
          "text": [
            "WARNING:tensorflow:8 out of the last 1035 calls to <function TensorFlowOpLayer._defun_call at 0x7f09a2e728c0> triggered tf.function retracing. Tracing is expensive and the excessive number of tracings could be due to (1) creating @tf.function repeatedly in a loop, (2) passing tensors with different shapes, (3) passing Python objects instead of tensors. For (1), please define your @tf.function outside of the loop. For (2), @tf.function has experimental_relax_shapes=True option that relaxes argument shapes that can avoid unnecessary retracing. For (3), please refer to https://www.tensorflow.org/guide/function#controlling_retracing and https://www.tensorflow.org/api_docs/python/tf/function for  more details.\n"
          ],
          "name": "stderr"
        },
        {
          "output_type": "stream",
          "text": [
            "WARNING:tensorflow:9 out of the last 1036 calls to <function TensorFlowOpLayer._defun_call at 0x7f09a2fddb90> triggered tf.function retracing. Tracing is expensive and the excessive number of tracings could be due to (1) creating @tf.function repeatedly in a loop, (2) passing tensors with different shapes, (3) passing Python objects instead of tensors. For (1), please define your @tf.function outside of the loop. For (2), @tf.function has experimental_relax_shapes=True option that relaxes argument shapes that can avoid unnecessary retracing. For (3), please refer to https://www.tensorflow.org/guide/function#controlling_retracing and https://www.tensorflow.org/api_docs/python/tf/function for  more details.\n"
          ],
          "name": "stdout"
        },
        {
          "output_type": "stream",
          "text": [
            "WARNING:tensorflow:9 out of the last 1036 calls to <function TensorFlowOpLayer._defun_call at 0x7f09a2fddb90> triggered tf.function retracing. Tracing is expensive and the excessive number of tracings could be due to (1) creating @tf.function repeatedly in a loop, (2) passing tensors with different shapes, (3) passing Python objects instead of tensors. For (1), please define your @tf.function outside of the loop. For (2), @tf.function has experimental_relax_shapes=True option that relaxes argument shapes that can avoid unnecessary retracing. For (3), please refer to https://www.tensorflow.org/guide/function#controlling_retracing and https://www.tensorflow.org/api_docs/python/tf/function for  more details.\n"
          ],
          "name": "stderr"
        },
        {
          "output_type": "stream",
          "text": [
            "WARNING:tensorflow:10 out of the last 1037 calls to <function TensorFlowOpLayer._defun_call at 0x7f09a2e34560> triggered tf.function retracing. Tracing is expensive and the excessive number of tracings could be due to (1) creating @tf.function repeatedly in a loop, (2) passing tensors with different shapes, (3) passing Python objects instead of tensors. For (1), please define your @tf.function outside of the loop. For (2), @tf.function has experimental_relax_shapes=True option that relaxes argument shapes that can avoid unnecessary retracing. For (3), please refer to https://www.tensorflow.org/guide/function#controlling_retracing and https://www.tensorflow.org/api_docs/python/tf/function for  more details.\n"
          ],
          "name": "stdout"
        },
        {
          "output_type": "stream",
          "text": [
            "WARNING:tensorflow:10 out of the last 1037 calls to <function TensorFlowOpLayer._defun_call at 0x7f09a2e34560> triggered tf.function retracing. Tracing is expensive and the excessive number of tracings could be due to (1) creating @tf.function repeatedly in a loop, (2) passing tensors with different shapes, (3) passing Python objects instead of tensors. For (1), please define your @tf.function outside of the loop. For (2), @tf.function has experimental_relax_shapes=True option that relaxes argument shapes that can avoid unnecessary retracing. For (3), please refer to https://www.tensorflow.org/guide/function#controlling_retracing and https://www.tensorflow.org/api_docs/python/tf/function for  more details.\n"
          ],
          "name": "stderr"
        },
        {
          "output_type": "stream",
          "text": [
            "WARNING:tensorflow:11 out of the last 1038 calls to <function TensorFlowOpLayer._defun_call at 0x7f09a83ce830> triggered tf.function retracing. Tracing is expensive and the excessive number of tracings could be due to (1) creating @tf.function repeatedly in a loop, (2) passing tensors with different shapes, (3) passing Python objects instead of tensors. For (1), please define your @tf.function outside of the loop. For (2), @tf.function has experimental_relax_shapes=True option that relaxes argument shapes that can avoid unnecessary retracing. For (3), please refer to https://www.tensorflow.org/guide/function#controlling_retracing and https://www.tensorflow.org/api_docs/python/tf/function for  more details.\n"
          ],
          "name": "stdout"
        },
        {
          "output_type": "stream",
          "text": [
            "WARNING:tensorflow:11 out of the last 1038 calls to <function TensorFlowOpLayer._defun_call at 0x7f09a83ce830> triggered tf.function retracing. Tracing is expensive and the excessive number of tracings could be due to (1) creating @tf.function repeatedly in a loop, (2) passing tensors with different shapes, (3) passing Python objects instead of tensors. For (1), please define your @tf.function outside of the loop. For (2), @tf.function has experimental_relax_shapes=True option that relaxes argument shapes that can avoid unnecessary retracing. For (3), please refer to https://www.tensorflow.org/guide/function#controlling_retracing and https://www.tensorflow.org/api_docs/python/tf/function for  more details.\n"
          ],
          "name": "stderr"
        },
        {
          "output_type": "stream",
          "text": [
            "WARNING:tensorflow:11 out of the last 11 calls to <function TensorFlowOpLayer._defun_call at 0x7f09a2e03ef0> triggered tf.function retracing. Tracing is expensive and the excessive number of tracings could be due to (1) creating @tf.function repeatedly in a loop, (2) passing tensors with different shapes, (3) passing Python objects instead of tensors. For (1), please define your @tf.function outside of the loop. For (2), @tf.function has experimental_relax_shapes=True option that relaxes argument shapes that can avoid unnecessary retracing. For (3), please refer to https://www.tensorflow.org/guide/function#controlling_retracing and https://www.tensorflow.org/api_docs/python/tf/function for  more details.\n"
          ],
          "name": "stdout"
        },
        {
          "output_type": "stream",
          "text": [
            "WARNING:tensorflow:11 out of the last 11 calls to <function TensorFlowOpLayer._defun_call at 0x7f09a2e03ef0> triggered tf.function retracing. Tracing is expensive and the excessive number of tracings could be due to (1) creating @tf.function repeatedly in a loop, (2) passing tensors with different shapes, (3) passing Python objects instead of tensors. For (1), please define your @tf.function outside of the loop. For (2), @tf.function has experimental_relax_shapes=True option that relaxes argument shapes that can avoid unnecessary retracing. For (3), please refer to https://www.tensorflow.org/guide/function#controlling_retracing and https://www.tensorflow.org/api_docs/python/tf/function for  more details.\n"
          ],
          "name": "stderr"
        },
        {
          "output_type": "stream",
          "text": [
            "WARNING:tensorflow:11 out of the last 11 calls to <function TensorFlowOpLayer._defun_call at 0x7f09a2da3f80> triggered tf.function retracing. Tracing is expensive and the excessive number of tracings could be due to (1) creating @tf.function repeatedly in a loop, (2) passing tensors with different shapes, (3) passing Python objects instead of tensors. For (1), please define your @tf.function outside of the loop. For (2), @tf.function has experimental_relax_shapes=True option that relaxes argument shapes that can avoid unnecessary retracing. For (3), please refer to https://www.tensorflow.org/guide/function#controlling_retracing and https://www.tensorflow.org/api_docs/python/tf/function for  more details.\n"
          ],
          "name": "stdout"
        },
        {
          "output_type": "stream",
          "text": [
            "WARNING:tensorflow:11 out of the last 11 calls to <function TensorFlowOpLayer._defun_call at 0x7f09a2da3f80> triggered tf.function retracing. Tracing is expensive and the excessive number of tracings could be due to (1) creating @tf.function repeatedly in a loop, (2) passing tensors with different shapes, (3) passing Python objects instead of tensors. For (1), please define your @tf.function outside of the loop. For (2), @tf.function has experimental_relax_shapes=True option that relaxes argument shapes that can avoid unnecessary retracing. For (3), please refer to https://www.tensorflow.org/guide/function#controlling_retracing and https://www.tensorflow.org/api_docs/python/tf/function for  more details.\n"
          ],
          "name": "stderr"
        },
        {
          "output_type": "stream",
          "text": [
            "WARNING:tensorflow:11 out of the last 11 calls to <function TensorFlowOpLayer._defun_call at 0x7f09a2db4ef0> triggered tf.function retracing. Tracing is expensive and the excessive number of tracings could be due to (1) creating @tf.function repeatedly in a loop, (2) passing tensors with different shapes, (3) passing Python objects instead of tensors. For (1), please define your @tf.function outside of the loop. For (2), @tf.function has experimental_relax_shapes=True option that relaxes argument shapes that can avoid unnecessary retracing. For (3), please refer to https://www.tensorflow.org/guide/function#controlling_retracing and https://www.tensorflow.org/api_docs/python/tf/function for  more details.\n"
          ],
          "name": "stdout"
        },
        {
          "output_type": "stream",
          "text": [
            "WARNING:tensorflow:11 out of the last 11 calls to <function TensorFlowOpLayer._defun_call at 0x7f09a2db4ef0> triggered tf.function retracing. Tracing is expensive and the excessive number of tracings could be due to (1) creating @tf.function repeatedly in a loop, (2) passing tensors with different shapes, (3) passing Python objects instead of tensors. For (1), please define your @tf.function outside of the loop. For (2), @tf.function has experimental_relax_shapes=True option that relaxes argument shapes that can avoid unnecessary retracing. For (3), please refer to https://www.tensorflow.org/guide/function#controlling_retracing and https://www.tensorflow.org/api_docs/python/tf/function for  more details.\n"
          ],
          "name": "stderr"
        },
        {
          "output_type": "stream",
          "text": [
            "[=WARNING:tensorflow:5 out of the last 590 calls to <function TensorFlowOpLayer._defun_call at 0x7f09a2dee9e0> triggered tf.function retracing. Tracing is expensive and the excessive number of tracings could be due to (1) creating @tf.function repeatedly in a loop, (2) passing tensors with different shapes, (3) passing Python objects instead of tensors. For (1), please define your @tf.function outside of the loop. For (2), @tf.function has experimental_relax_shapes=True option that relaxes argument shapes that can avoid unnecessary retracing. For (3), please refer to https://www.tensorflow.org/guide/function#controlling_retracing and https://www.tensorflow.org/api_docs/python/tf/function for  more details.\n"
          ],
          "name": "stdout"
        },
        {
          "output_type": "stream",
          "text": [
            "WARNING:tensorflow:5 out of the last 590 calls to <function TensorFlowOpLayer._defun_call at 0x7f09a2dee9e0> triggered tf.function retracing. Tracing is expensive and the excessive number of tracings could be due to (1) creating @tf.function repeatedly in a loop, (2) passing tensors with different shapes, (3) passing Python objects instead of tensors. For (1), please define your @tf.function outside of the loop. For (2), @tf.function has experimental_relax_shapes=True option that relaxes argument shapes that can avoid unnecessary retracing. For (3), please refer to https://www.tensorflow.org/guide/function#controlling_retracing and https://www.tensorflow.org/api_docs/python/tf/function for  more details.\n"
          ],
          "name": "stderr"
        },
        {
          "output_type": "stream",
          "text": [
            "WARNING:tensorflow:6 out of the last 591 calls to <function TensorFlowOpLayer._defun_call at 0x7f09a2de5c20> triggered tf.function retracing. Tracing is expensive and the excessive number of tracings could be due to (1) creating @tf.function repeatedly in a loop, (2) passing tensors with different shapes, (3) passing Python objects instead of tensors. For (1), please define your @tf.function outside of the loop. For (2), @tf.function has experimental_relax_shapes=True option that relaxes argument shapes that can avoid unnecessary retracing. For (3), please refer to https://www.tensorflow.org/guide/function#controlling_retracing and https://www.tensorflow.org/api_docs/python/tf/function for  more details.\n"
          ],
          "name": "stdout"
        },
        {
          "output_type": "stream",
          "text": [
            "WARNING:tensorflow:6 out of the last 591 calls to <function TensorFlowOpLayer._defun_call at 0x7f09a2de5c20> triggered tf.function retracing. Tracing is expensive and the excessive number of tracings could be due to (1) creating @tf.function repeatedly in a loop, (2) passing tensors with different shapes, (3) passing Python objects instead of tensors. For (1), please define your @tf.function outside of the loop. For (2), @tf.function has experimental_relax_shapes=True option that relaxes argument shapes that can avoid unnecessary retracing. For (3), please refer to https://www.tensorflow.org/guide/function#controlling_retracing and https://www.tensorflow.org/api_docs/python/tf/function for  more details.\n"
          ],
          "name": "stderr"
        },
        {
          "output_type": "stream",
          "text": [
            "WARNING:tensorflow:7 out of the last 592 calls to <function TensorFlowOpLayer._defun_call at 0x7f09a2d82c20> triggered tf.function retracing. Tracing is expensive and the excessive number of tracings could be due to (1) creating @tf.function repeatedly in a loop, (2) passing tensors with different shapes, (3) passing Python objects instead of tensors. For (1), please define your @tf.function outside of the loop. For (2), @tf.function has experimental_relax_shapes=True option that relaxes argument shapes that can avoid unnecessary retracing. For (3), please refer to https://www.tensorflow.org/guide/function#controlling_retracing and https://www.tensorflow.org/api_docs/python/tf/function for  more details.\n"
          ],
          "name": "stdout"
        },
        {
          "output_type": "stream",
          "text": [
            "WARNING:tensorflow:7 out of the last 592 calls to <function TensorFlowOpLayer._defun_call at 0x7f09a2d82c20> triggered tf.function retracing. Tracing is expensive and the excessive number of tracings could be due to (1) creating @tf.function repeatedly in a loop, (2) passing tensors with different shapes, (3) passing Python objects instead of tensors. For (1), please define your @tf.function outside of the loop. For (2), @tf.function has experimental_relax_shapes=True option that relaxes argument shapes that can avoid unnecessary retracing. For (3), please refer to https://www.tensorflow.org/guide/function#controlling_retracing and https://www.tensorflow.org/api_docs/python/tf/function for  more details.\n"
          ],
          "name": "stderr"
        },
        {
          "output_type": "stream",
          "text": [
            "WARNING:tensorflow:8 out of the last 593 calls to <function TensorFlowOpLayer._defun_call at 0x7f09a2e728c0> triggered tf.function retracing. Tracing is expensive and the excessive number of tracings could be due to (1) creating @tf.function repeatedly in a loop, (2) passing tensors with different shapes, (3) passing Python objects instead of tensors. For (1), please define your @tf.function outside of the loop. For (2), @tf.function has experimental_relax_shapes=True option that relaxes argument shapes that can avoid unnecessary retracing. For (3), please refer to https://www.tensorflow.org/guide/function#controlling_retracing and https://www.tensorflow.org/api_docs/python/tf/function for  more details.\n"
          ],
          "name": "stdout"
        },
        {
          "output_type": "stream",
          "text": [
            "WARNING:tensorflow:8 out of the last 593 calls to <function TensorFlowOpLayer._defun_call at 0x7f09a2e728c0> triggered tf.function retracing. Tracing is expensive and the excessive number of tracings could be due to (1) creating @tf.function repeatedly in a loop, (2) passing tensors with different shapes, (3) passing Python objects instead of tensors. For (1), please define your @tf.function outside of the loop. For (2), @tf.function has experimental_relax_shapes=True option that relaxes argument shapes that can avoid unnecessary retracing. For (3), please refer to https://www.tensorflow.org/guide/function#controlling_retracing and https://www.tensorflow.org/api_docs/python/tf/function for  more details.\n"
          ],
          "name": "stderr"
        },
        {
          "output_type": "stream",
          "text": [
            "WARNING:tensorflow:9 out of the last 594 calls to <function TensorFlowOpLayer._defun_call at 0x7f09a2fddb90> triggered tf.function retracing. Tracing is expensive and the excessive number of tracings could be due to (1) creating @tf.function repeatedly in a loop, (2) passing tensors with different shapes, (3) passing Python objects instead of tensors. For (1), please define your @tf.function outside of the loop. For (2), @tf.function has experimental_relax_shapes=True option that relaxes argument shapes that can avoid unnecessary retracing. For (3), please refer to https://www.tensorflow.org/guide/function#controlling_retracing and https://www.tensorflow.org/api_docs/python/tf/function for  more details.\n"
          ],
          "name": "stdout"
        },
        {
          "output_type": "stream",
          "text": [
            "WARNING:tensorflow:9 out of the last 594 calls to <function TensorFlowOpLayer._defun_call at 0x7f09a2fddb90> triggered tf.function retracing. Tracing is expensive and the excessive number of tracings could be due to (1) creating @tf.function repeatedly in a loop, (2) passing tensors with different shapes, (3) passing Python objects instead of tensors. For (1), please define your @tf.function outside of the loop. For (2), @tf.function has experimental_relax_shapes=True option that relaxes argument shapes that can avoid unnecessary retracing. For (3), please refer to https://www.tensorflow.org/guide/function#controlling_retracing and https://www.tensorflow.org/api_docs/python/tf/function for  more details.\n"
          ],
          "name": "stderr"
        },
        {
          "output_type": "stream",
          "text": [
            "WARNING:tensorflow:10 out of the last 595 calls to <function TensorFlowOpLayer._defun_call at 0x7f09a2e34560> triggered tf.function retracing. Tracing is expensive and the excessive number of tracings could be due to (1) creating @tf.function repeatedly in a loop, (2) passing tensors with different shapes, (3) passing Python objects instead of tensors. For (1), please define your @tf.function outside of the loop. For (2), @tf.function has experimental_relax_shapes=True option that relaxes argument shapes that can avoid unnecessary retracing. For (3), please refer to https://www.tensorflow.org/guide/function#controlling_retracing and https://www.tensorflow.org/api_docs/python/tf/function for  more details.\n"
          ],
          "name": "stdout"
        },
        {
          "output_type": "stream",
          "text": [
            "WARNING:tensorflow:10 out of the last 595 calls to <function TensorFlowOpLayer._defun_call at 0x7f09a2e34560> triggered tf.function retracing. Tracing is expensive and the excessive number of tracings could be due to (1) creating @tf.function repeatedly in a loop, (2) passing tensors with different shapes, (3) passing Python objects instead of tensors. For (1), please define your @tf.function outside of the loop. For (2), @tf.function has experimental_relax_shapes=True option that relaxes argument shapes that can avoid unnecessary retracing. For (3), please refer to https://www.tensorflow.org/guide/function#controlling_retracing and https://www.tensorflow.org/api_docs/python/tf/function for  more details.\n"
          ],
          "name": "stderr"
        },
        {
          "output_type": "stream",
          "text": [
            "WARNING:tensorflow:11 out of the last 596 calls to <function TensorFlowOpLayer._defun_call at 0x7f09a83ce830> triggered tf.function retracing. Tracing is expensive and the excessive number of tracings could be due to (1) creating @tf.function repeatedly in a loop, (2) passing tensors with different shapes, (3) passing Python objects instead of tensors. For (1), please define your @tf.function outside of the loop. For (2), @tf.function has experimental_relax_shapes=True option that relaxes argument shapes that can avoid unnecessary retracing. For (3), please refer to https://www.tensorflow.org/guide/function#controlling_retracing and https://www.tensorflow.org/api_docs/python/tf/function for  more details.\n"
          ],
          "name": "stdout"
        },
        {
          "output_type": "stream",
          "text": [
            "WARNING:tensorflow:11 out of the last 596 calls to <function TensorFlowOpLayer._defun_call at 0x7f09a83ce830> triggered tf.function retracing. Tracing is expensive and the excessive number of tracings could be due to (1) creating @tf.function repeatedly in a loop, (2) passing tensors with different shapes, (3) passing Python objects instead of tensors. For (1), please define your @tf.function outside of the loop. For (2), @tf.function has experimental_relax_shapes=True option that relaxes argument shapes that can avoid unnecessary retracing. For (3), please refer to https://www.tensorflow.org/guide/function#controlling_retracing and https://www.tensorflow.org/api_docs/python/tf/function for  more details.\n"
          ],
          "name": "stderr"
        },
        {
          "output_type": "stream",
          "text": [
            "WARNING:tensorflow:11 out of the last 11 calls to <function TensorFlowOpLayer._defun_call at 0x7f09a2e03ef0> triggered tf.function retracing. Tracing is expensive and the excessive number of tracings could be due to (1) creating @tf.function repeatedly in a loop, (2) passing tensors with different shapes, (3) passing Python objects instead of tensors. For (1), please define your @tf.function outside of the loop. For (2), @tf.function has experimental_relax_shapes=True option that relaxes argument shapes that can avoid unnecessary retracing. For (3), please refer to https://www.tensorflow.org/guide/function#controlling_retracing and https://www.tensorflow.org/api_docs/python/tf/function for  more details.\n"
          ],
          "name": "stdout"
        },
        {
          "output_type": "stream",
          "text": [
            "WARNING:tensorflow:11 out of the last 11 calls to <function TensorFlowOpLayer._defun_call at 0x7f09a2e03ef0> triggered tf.function retracing. Tracing is expensive and the excessive number of tracings could be due to (1) creating @tf.function repeatedly in a loop, (2) passing tensors with different shapes, (3) passing Python objects instead of tensors. For (1), please define your @tf.function outside of the loop. For (2), @tf.function has experimental_relax_shapes=True option that relaxes argument shapes that can avoid unnecessary retracing. For (3), please refer to https://www.tensorflow.org/guide/function#controlling_retracing and https://www.tensorflow.org/api_docs/python/tf/function for  more details.\n"
          ],
          "name": "stderr"
        },
        {
          "output_type": "stream",
          "text": [
            "WARNING:tensorflow:11 out of the last 11 calls to <function TensorFlowOpLayer._defun_call at 0x7f09a2da3f80> triggered tf.function retracing. Tracing is expensive and the excessive number of tracings could be due to (1) creating @tf.function repeatedly in a loop, (2) passing tensors with different shapes, (3) passing Python objects instead of tensors. For (1), please define your @tf.function outside of the loop. For (2), @tf.function has experimental_relax_shapes=True option that relaxes argument shapes that can avoid unnecessary retracing. For (3), please refer to https://www.tensorflow.org/guide/function#controlling_retracing and https://www.tensorflow.org/api_docs/python/tf/function for  more details.\n"
          ],
          "name": "stdout"
        },
        {
          "output_type": "stream",
          "text": [
            "WARNING:tensorflow:11 out of the last 11 calls to <function TensorFlowOpLayer._defun_call at 0x7f09a2da3f80> triggered tf.function retracing. Tracing is expensive and the excessive number of tracings could be due to (1) creating @tf.function repeatedly in a loop, (2) passing tensors with different shapes, (3) passing Python objects instead of tensors. For (1), please define your @tf.function outside of the loop. For (2), @tf.function has experimental_relax_shapes=True option that relaxes argument shapes that can avoid unnecessary retracing. For (3), please refer to https://www.tensorflow.org/guide/function#controlling_retracing and https://www.tensorflow.org/api_docs/python/tf/function for  more details.\n"
          ],
          "name": "stderr"
        },
        {
          "output_type": "stream",
          "text": [
            "WARNING:tensorflow:11 out of the last 11 calls to <function TensorFlowOpLayer._defun_call at 0x7f09a2db4ef0> triggered tf.function retracing. Tracing is expensive and the excessive number of tracings could be due to (1) creating @tf.function repeatedly in a loop, (2) passing tensors with different shapes, (3) passing Python objects instead of tensors. For (1), please define your @tf.function outside of the loop. For (2), @tf.function has experimental_relax_shapes=True option that relaxes argument shapes that can avoid unnecessary retracing. For (3), please refer to https://www.tensorflow.org/guide/function#controlling_retracing and https://www.tensorflow.org/api_docs/python/tf/function for  more details.\n"
          ],
          "name": "stdout"
        },
        {
          "output_type": "stream",
          "text": [
            "WARNING:tensorflow:11 out of the last 11 calls to <function TensorFlowOpLayer._defun_call at 0x7f09a2db4ef0> triggered tf.function retracing. Tracing is expensive and the excessive number of tracings could be due to (1) creating @tf.function repeatedly in a loop, (2) passing tensors with different shapes, (3) passing Python objects instead of tensors. For (1), please define your @tf.function outside of the loop. For (2), @tf.function has experimental_relax_shapes=True option that relaxes argument shapes that can avoid unnecessary retracing. For (3), please refer to https://www.tensorflow.org/guide/function#controlling_retracing and https://www.tensorflow.org/api_docs/python/tf/function for  more details.\n"
          ],
          "name": "stderr"
        },
        {
          "output_type": "stream",
          "text": [
            "]  -  Training Loss: 0.0054"
          ],
          "name": "stdout"
        },
        {
          "output_type": "stream",
          "text": [
            "WARNING:matplotlib.image:Clipping input data to the valid range for imshow with RGB data ([0..1] for floats or [0..255] for integers).\n",
            "WARNING:matplotlib.image:Clipping input data to the valid range for imshow with RGB data ([0..1] for floats or [0..255] for integers).\n",
            "WARNING:matplotlib.image:Clipping input data to the valid range for imshow with RGB data ([0..1] for floats or [0..255] for integers).\n"
          ],
          "name": "stderr"
        },
        {
          "output_type": "display_data",
          "data": {
            "image/png": "[encoded data removed]",
            "text/plain": [
              "<Figure size 1080x1080 with 3 Axes>"
            ]
          },
          "metadata": {
            "tags": [],
            "needs_background": "light"
          }
        },
        {
          "output_type": "stream",
          "text": [
            "  -  Validation Loss: 0.0045  -   Time taken: 307.18s\n",
            "INFO:tensorflow:Assets written to: trained_model/assets\n"
          ],
          "name": "stdout"
        },
        {
          "output_type": "stream",
          "text": [
            "INFO:tensorflow:Assets written to: trained_model/assets\n"
          ],
          "name": "stderr"
        },
        {
          "output_type": "stream",
          "text": [
            "CPU times: user 45.1 s, sys: 22.9 s, total: 1min 7s\n",
            "Wall time: 5min 12s\n"
          ],
          "name": "stdout"
        }
      ]
    },
    {
      "cell_type": "code",
      "metadata": {
        "id": "1wu9xhQ-0kcE",
        "colab": {
          "base_uri": "https://localhost:8080/"
        },
        "outputId": "d770b19d-4b0d-4048-abe7-e1f9c1238e0e"
      },
      "source": [
        "net.save('./drive/MyDrive/nets/gman')\n",
        "model=net\n",
        "net.save_weights('/content/drive/MyDrive/nets/gman/weights')\n",
        "#model.build([412,548,3])\n",
        "#model.summary()"
      ],
      "execution_count": 18,
      "outputs": [
        {
          "output_type": "stream",
          "text": [
            "INFO:tensorflow:Assets written to: ./drive/MyDrive/nets/gman/assets\n"
          ],
          "name": "stdout"
        },
        {
          "output_type": "stream",
          "text": [
            "INFO:tensorflow:Assets written to: ./drive/MyDrive/nets/gman/assets\n"
          ],
          "name": "stderr"
        }
      ]
    },
    {
      "cell_type": "code",
      "metadata": {
        "trusted": true,
        "scrolled": true,
        "id": "hj2jEwFxKnKt"
      },
      "source": [
        "import cv2\n",
        "import matplotlib.pyplot as plt\n",
        "\n",
        "def evaluate_gen(net):\n",
        "    \n",
        "    #test_img = glob.glob(test_img_path +'/*.jpg')\n",
        "    test_img=glob.glob('/content/drive/MyDrive/Final_compare/HAZY/*.jpg')\n",
        "    #test_img=glob.glob('/content/drive/MyDrive/Final_compare/gman/*.jpg')\n",
        "    #random.shuffle(test_img)\n",
        "    i=0;\n",
        "    for img in test_img:\n",
        "        \n",
        "        img = tf.io.read_file(img)\n",
        "        img = tf.io.decode_jpeg(img, channels = 3)\n",
        "        \n",
        "        img = tf.image.resize(img, size = (412,548), antialias = True)\n",
        "        \n",
        "        img = img / 255.0\n",
        "        print(i,end=\" \")\n",
        "        img = tf.expand_dims(img, axis = 0)      #transform input image from 3D to 4D ###\n",
        "        \n",
        "        dehaze = net(img)\n",
        "        dehaze=tf.image.resize(dehaze, size = (413,550), antialias = True)\n",
        "        #plt.figure(figsize = (80, 80))\n",
        "        \n",
        "        #display_list = [img[0], dehaze[0]]       #make the first dimension zero\n",
        "        im=dehaze[0]\n",
        "        directory = '/content/drive/MyDrive/Final_compare/gman/trans'\n",
        "        #directory = '/content/drive/MyDrive/Final_compare/LoopCompare'\n",
        "        os.chdir(directory)\n",
        "        filename = str(i) + '_outdoor_gen.jpg'\n",
        "        #print(filename)\n",
        "        #cv2.imwrite(filename,im) \n",
        "        #plt.imsave(filename,im)\n",
        "        tf.keras.preprocessing.image.save_img(\n",
        "    filename, \n",
        "\n",
        "im)\n",
        "\n",
        "        os.chdir('/content')\n",
        "        i+=1;\n",
        "\n"
      ],
      "execution_count": 21,
      "outputs": []
    },
    {
      "cell_type": "code",
      "metadata": {
        "trusted": true,
        "scrolled": false,
        "_kg_hide-output": true,
        "id": "UUCDXhKnKnKu",
        "colab": {
          "base_uri": "https://localhost:8080/"
        },
        "outputId": "833aa712-4493-47a0-ca6a-7725b836b2ac"
      },
      "source": [
        "new_model = tf.keras.models.load_model('/content/drive/MyDrive/nets/gman',compile=False)\n",
        "#new_model = tf.keras.models.load_model('/content/drive/MyDrive/nets/gman/trained_model',compile=False)\n",
        "\n",
        "evaluate_gen(net)\n"
      ],
      "execution_count": 22,
      "outputs": [
        {
          "output_type": "stream",
          "text": [
            "0 WARNING:tensorflow:5 out of the last 122 calls to <function TensorFlowOpLayer._defun_call at 0x7f09a2dee9e0> triggered tf.function retracing. Tracing is expensive and the excessive number of tracings could be due to (1) creating @tf.function repeatedly in a loop, (2) passing tensors with different shapes, (3) passing Python objects instead of tensors. For (1), please define your @tf.function outside of the loop. For (2), @tf.function has experimental_relax_shapes=True option that relaxes argument shapes that can avoid unnecessary retracing. For (3), please refer to https://www.tensorflow.org/guide/function#controlling_retracing and https://www.tensorflow.org/api_docs/python/tf/function for  more details.\n"
          ],
          "name": "stdout"
        },
        {
          "output_type": "stream",
          "text": [
            "WARNING:tensorflow:5 out of the last 122 calls to <function TensorFlowOpLayer._defun_call at 0x7f09a2dee9e0> triggered tf.function retracing. Tracing is expensive and the excessive number of tracings could be due to (1) creating @tf.function repeatedly in a loop, (2) passing tensors with different shapes, (3) passing Python objects instead of tensors. For (1), please define your @tf.function outside of the loop. For (2), @tf.function has experimental_relax_shapes=True option that relaxes argument shapes that can avoid unnecessary retracing. For (3), please refer to https://www.tensorflow.org/guide/function#controlling_retracing and https://www.tensorflow.org/api_docs/python/tf/function for  more details.\n"
          ],
          "name": "stderr"
        },
        {
          "output_type": "stream",
          "text": [
            "WARNING:tensorflow:6 out of the last 123 calls to <function TensorFlowOpLayer._defun_call at 0x7f09a2de5c20> triggered tf.function retracing. Tracing is expensive and the excessive number of tracings could be due to (1) creating @tf.function repeatedly in a loop, (2) passing tensors with different shapes, (3) passing Python objects instead of tensors. For (1), please define your @tf.function outside of the loop. For (2), @tf.function has experimental_relax_shapes=True option that relaxes argument shapes that can avoid unnecessary retracing. For (3), please refer to https://www.tensorflow.org/guide/function#controlling_retracing and https://www.tensorflow.org/api_docs/python/tf/function for  more details.\n"
          ],
          "name": "stdout"
        },
        {
          "output_type": "stream",
          "text": [
            "WARNING:tensorflow:6 out of the last 123 calls to <function TensorFlowOpLayer._defun_call at 0x7f09a2de5c20> triggered tf.function retracing. Tracing is expensive and the excessive number of tracings could be due to (1) creating @tf.function repeatedly in a loop, (2) passing tensors with different shapes, (3) passing Python objects instead of tensors. For (1), please define your @tf.function outside of the loop. For (2), @tf.function has experimental_relax_shapes=True option that relaxes argument shapes that can avoid unnecessary retracing. For (3), please refer to https://www.tensorflow.org/guide/function#controlling_retracing and https://www.tensorflow.org/api_docs/python/tf/function for  more details.\n"
          ],
          "name": "stderr"
        },
        {
          "output_type": "stream",
          "text": [
            "WARNING:tensorflow:7 out of the last 124 calls to <function TensorFlowOpLayer._defun_call at 0x7f09a2d82c20> triggered tf.function retracing. Tracing is expensive and the excessive number of tracings could be due to (1) creating @tf.function repeatedly in a loop, (2) passing tensors with different shapes, (3) passing Python objects instead of tensors. For (1), please define your @tf.function outside of the loop. For (2), @tf.function has experimental_relax_shapes=True option that relaxes argument shapes that can avoid unnecessary retracing. For (3), please refer to https://www.tensorflow.org/guide/function#controlling_retracing and https://www.tensorflow.org/api_docs/python/tf/function for  more details.\n"
          ],
          "name": "stdout"
        },
        {
          "output_type": "stream",
          "text": [
            "WARNING:tensorflow:7 out of the last 124 calls to <function TensorFlowOpLayer._defun_call at 0x7f09a2d82c20> triggered tf.function retracing. Tracing is expensive and the excessive number of tracings could be due to (1) creating @tf.function repeatedly in a loop, (2) passing tensors with different shapes, (3) passing Python objects instead of tensors. For (1), please define your @tf.function outside of the loop. For (2), @tf.function has experimental_relax_shapes=True option that relaxes argument shapes that can avoid unnecessary retracing. For (3), please refer to https://www.tensorflow.org/guide/function#controlling_retracing and https://www.tensorflow.org/api_docs/python/tf/function for  more details.\n"
          ],
          "name": "stderr"
        },
        {
          "output_type": "stream",
          "text": [
            "WARNING:tensorflow:8 out of the last 125 calls to <function TensorFlowOpLayer._defun_call at 0x7f09a2e728c0> triggered tf.function retracing. Tracing is expensive and the excessive number of tracings could be due to (1) creating @tf.function repeatedly in a loop, (2) passing tensors with different shapes, (3) passing Python objects instead of tensors. For (1), please define your @tf.function outside of the loop. For (2), @tf.function has experimental_relax_shapes=True option that relaxes argument shapes that can avoid unnecessary retracing. For (3), please refer to https://www.tensorflow.org/guide/function#controlling_retracing and https://www.tensorflow.org/api_docs/python/tf/function for  more details.\n"
          ],
          "name": "stdout"
        },
        {
          "output_type": "stream",
          "text": [
            "WARNING:tensorflow:8 out of the last 125 calls to <function TensorFlowOpLayer._defun_call at 0x7f09a2e728c0> triggered tf.function retracing. Tracing is expensive and the excessive number of tracings could be due to (1) creating @tf.function repeatedly in a loop, (2) passing tensors with different shapes, (3) passing Python objects instead of tensors. For (1), please define your @tf.function outside of the loop. For (2), @tf.function has experimental_relax_shapes=True option that relaxes argument shapes that can avoid unnecessary retracing. For (3), please refer to https://www.tensorflow.org/guide/function#controlling_retracing and https://www.tensorflow.org/api_docs/python/tf/function for  more details.\n"
          ],
          "name": "stderr"
        },
        {
          "output_type": "stream",
          "text": [
            "WARNING:tensorflow:9 out of the last 126 calls to <function TensorFlowOpLayer._defun_call at 0x7f09a2fddb90> triggered tf.function retracing. Tracing is expensive and the excessive number of tracings could be due to (1) creating @tf.function repeatedly in a loop, (2) passing tensors with different shapes, (3) passing Python objects instead of tensors. For (1), please define your @tf.function outside of the loop. For (2), @tf.function has experimental_relax_shapes=True option that relaxes argument shapes that can avoid unnecessary retracing. For (3), please refer to https://www.tensorflow.org/guide/function#controlling_retracing and https://www.tensorflow.org/api_docs/python/tf/function for  more details.\n"
          ],
          "name": "stdout"
        },
        {
          "output_type": "stream",
          "text": [
            "WARNING:tensorflow:9 out of the last 126 calls to <function TensorFlowOpLayer._defun_call at 0x7f09a2fddb90> triggered tf.function retracing. Tracing is expensive and the excessive number of tracings could be due to (1) creating @tf.function repeatedly in a loop, (2) passing tensors with different shapes, (3) passing Python objects instead of tensors. For (1), please define your @tf.function outside of the loop. For (2), @tf.function has experimental_relax_shapes=True option that relaxes argument shapes that can avoid unnecessary retracing. For (3), please refer to https://www.tensorflow.org/guide/function#controlling_retracing and https://www.tensorflow.org/api_docs/python/tf/function for  more details.\n"
          ],
          "name": "stderr"
        },
        {
          "output_type": "stream",
          "text": [
            "WARNING:tensorflow:10 out of the last 127 calls to <function TensorFlowOpLayer._defun_call at 0x7f09a2e34560> triggered tf.function retracing. Tracing is expensive and the excessive number of tracings could be due to (1) creating @tf.function repeatedly in a loop, (2) passing tensors with different shapes, (3) passing Python objects instead of tensors. For (1), please define your @tf.function outside of the loop. For (2), @tf.function has experimental_relax_shapes=True option that relaxes argument shapes that can avoid unnecessary retracing. For (3), please refer to https://www.tensorflow.org/guide/function#controlling_retracing and https://www.tensorflow.org/api_docs/python/tf/function for  more details.\n"
          ],
          "name": "stdout"
        },
        {
          "output_type": "stream",
          "text": [
            "WARNING:tensorflow:10 out of the last 127 calls to <function TensorFlowOpLayer._defun_call at 0x7f09a2e34560> triggered tf.function retracing. Tracing is expensive and the excessive number of tracings could be due to (1) creating @tf.function repeatedly in a loop, (2) passing tensors with different shapes, (3) passing Python objects instead of tensors. For (1), please define your @tf.function outside of the loop. For (2), @tf.function has experimental_relax_shapes=True option that relaxes argument shapes that can avoid unnecessary retracing. For (3), please refer to https://www.tensorflow.org/guide/function#controlling_retracing and https://www.tensorflow.org/api_docs/python/tf/function for  more details.\n"
          ],
          "name": "stderr"
        },
        {
          "output_type": "stream",
          "text": [
            "WARNING:tensorflow:11 out of the last 128 calls to <function TensorFlowOpLayer._defun_call at 0x7f09a83ce830> triggered tf.function retracing. Tracing is expensive and the excessive number of tracings could be due to (1) creating @tf.function repeatedly in a loop, (2) passing tensors with different shapes, (3) passing Python objects instead of tensors. For (1), please define your @tf.function outside of the loop. For (2), @tf.function has experimental_relax_shapes=True option that relaxes argument shapes that can avoid unnecessary retracing. For (3), please refer to https://www.tensorflow.org/guide/function#controlling_retracing and https://www.tensorflow.org/api_docs/python/tf/function for  more details.\n"
          ],
          "name": "stdout"
        },
        {
          "output_type": "stream",
          "text": [
            "WARNING:tensorflow:11 out of the last 128 calls to <function TensorFlowOpLayer._defun_call at 0x7f09a83ce830> triggered tf.function retracing. Tracing is expensive and the excessive number of tracings could be due to (1) creating @tf.function repeatedly in a loop, (2) passing tensors with different shapes, (3) passing Python objects instead of tensors. For (1), please define your @tf.function outside of the loop. For (2), @tf.function has experimental_relax_shapes=True option that relaxes argument shapes that can avoid unnecessary retracing. For (3), please refer to https://www.tensorflow.org/guide/function#controlling_retracing and https://www.tensorflow.org/api_docs/python/tf/function for  more details.\n"
          ],
          "name": "stderr"
        },
        {
          "output_type": "stream",
          "text": [
            "WARNING:tensorflow:11 out of the last 11 calls to <function TensorFlowOpLayer._defun_call at 0x7f09a2e03ef0> triggered tf.function retracing. Tracing is expensive and the excessive number of tracings could be due to (1) creating @tf.function repeatedly in a loop, (2) passing tensors with different shapes, (3) passing Python objects instead of tensors. For (1), please define your @tf.function outside of the loop. For (2), @tf.function has experimental_relax_shapes=True option that relaxes argument shapes that can avoid unnecessary retracing. For (3), please refer to https://www.tensorflow.org/guide/function#controlling_retracing and https://www.tensorflow.org/api_docs/python/tf/function for  more details.\n"
          ],
          "name": "stdout"
        },
        {
          "output_type": "stream",
          "text": [
            "WARNING:tensorflow:11 out of the last 11 calls to <function TensorFlowOpLayer._defun_call at 0x7f09a2e03ef0> triggered tf.function retracing. Tracing is expensive and the excessive number of tracings could be due to (1) creating @tf.function repeatedly in a loop, (2) passing tensors with different shapes, (3) passing Python objects instead of tensors. For (1), please define your @tf.function outside of the loop. For (2), @tf.function has experimental_relax_shapes=True option that relaxes argument shapes that can avoid unnecessary retracing. For (3), please refer to https://www.tensorflow.org/guide/function#controlling_retracing and https://www.tensorflow.org/api_docs/python/tf/function for  more details.\n"
          ],
          "name": "stderr"
        },
        {
          "output_type": "stream",
          "text": [
            "WARNING:tensorflow:11 out of the last 11 calls to <function TensorFlowOpLayer._defun_call at 0x7f09a2da3f80> triggered tf.function retracing. Tracing is expensive and the excessive number of tracings could be due to (1) creating @tf.function repeatedly in a loop, (2) passing tensors with different shapes, (3) passing Python objects instead of tensors. For (1), please define your @tf.function outside of the loop. For (2), @tf.function has experimental_relax_shapes=True option that relaxes argument shapes that can avoid unnecessary retracing. For (3), please refer to https://www.tensorflow.org/guide/function#controlling_retracing and https://www.tensorflow.org/api_docs/python/tf/function for  more details.\n"
          ],
          "name": "stdout"
        },
        {
          "output_type": "stream",
          "text": [
            "WARNING:tensorflow:11 out of the last 11 calls to <function TensorFlowOpLayer._defun_call at 0x7f09a2da3f80> triggered tf.function retracing. Tracing is expensive and the excessive number of tracings could be due to (1) creating @tf.function repeatedly in a loop, (2) passing tensors with different shapes, (3) passing Python objects instead of tensors. For (1), please define your @tf.function outside of the loop. For (2), @tf.function has experimental_relax_shapes=True option that relaxes argument shapes that can avoid unnecessary retracing. For (3), please refer to https://www.tensorflow.org/guide/function#controlling_retracing and https://www.tensorflow.org/api_docs/python/tf/function for  more details.\n"
          ],
          "name": "stderr"
        },
        {
          "output_type": "stream",
          "text": [
            "WARNING:tensorflow:11 out of the last 11 calls to <function TensorFlowOpLayer._defun_call at 0x7f09a2db4ef0> triggered tf.function retracing. Tracing is expensive and the excessive number of tracings could be due to (1) creating @tf.function repeatedly in a loop, (2) passing tensors with different shapes, (3) passing Python objects instead of tensors. For (1), please define your @tf.function outside of the loop. For (2), @tf.function has experimental_relax_shapes=True option that relaxes argument shapes that can avoid unnecessary retracing. For (3), please refer to https://www.tensorflow.org/guide/function#controlling_retracing and https://www.tensorflow.org/api_docs/python/tf/function for  more details.\n"
          ],
          "name": "stdout"
        },
        {
          "output_type": "stream",
          "text": [
            "WARNING:tensorflow:11 out of the last 11 calls to <function TensorFlowOpLayer._defun_call at 0x7f09a2db4ef0> triggered tf.function retracing. Tracing is expensive and the excessive number of tracings could be due to (1) creating @tf.function repeatedly in a loop, (2) passing tensors with different shapes, (3) passing Python objects instead of tensors. For (1), please define your @tf.function outside of the loop. For (2), @tf.function has experimental_relax_shapes=True option that relaxes argument shapes that can avoid unnecessary retracing. For (3), please refer to https://www.tensorflow.org/guide/function#controlling_retracing and https://www.tensorflow.org/api_docs/python/tf/function for  more details.\n"
          ],
          "name": "stderr"
        },
        {
          "output_type": "stream",
          "text": [
            "1 2 3 4 5 6 7 8 9 10 11 12 13 14 15 16 17 18 19 20 21 22 23 24 25 26 27 28 29 30 31 32 33 34 35 36 37 38 39 40 41 "
          ],
          "name": "stdout"
        }
      ]
    },
    {
      "cell_type": "code",
      "metadata": {
        "id": "tMg7MNzdkWCH"
      },
      "source": [
        "\n",
        "\n",
        "cp -r trained_model/ /content/drive/MyDrive/nets/dehazenet/trained_model\n",
        "\n"
      ],
      "execution_count": null,
      "outputs": []
    },
    {
      "cell_type": "code",
      "metadata": {
        "id": "UZJmVhXGkno_"
      },
      "source": [
        "net1= tf.keras.models.load_model('/content/drive/MyDrive/demo/gman/saved_model',compile=False)"
      ],
      "execution_count": 27,
      "outputs": []
    },
    {
      "cell_type": "code",
      "metadata": {
        "id": "QPlO7CF-BAsN",
        "outputId": "3fc744f5-c77d-4ed5-8073-fe81837fa137",
        "colab": {
          "base_uri": "https://localhost:8080/"
        }
      },
      "source": [
        "net1.summary()"
      ],
      "execution_count": 28,
      "outputs": [
        {
          "output_type": "stream",
          "text": [
            "Model: \"functional_1\"\n",
            "__________________________________________________________________________________________________\n",
            "Layer (type)                    Output Shape         Param #     Connected to                     \n",
            "==================================================================================================\n",
            "input_1 (InputLayer)            [(None, 412, 548, 3) 0                                            \n",
            "__________________________________________________________________________________________________\n",
            "conv2d (Conv2D)                 (None, 412, 548, 64) 1792        input_1[0][0]                    \n",
            "__________________________________________________________________________________________________\n",
            "conv2d_1 (Conv2D)               (None, 412, 548, 64) 36928       conv2d[0][0]                     \n",
            "__________________________________________________________________________________________________\n",
            "conv2d_2 (Conv2D)               (None, 206, 274, 128 73856       conv2d_1[0][0]                   \n",
            "__________________________________________________________________________________________________\n",
            "conv2d_3 (Conv2D)               (None, 103, 137, 128 147584      conv2d_2[0][0]                   \n",
            "__________________________________________________________________________________________________\n",
            "conv2d_4 (Conv2D)               (None, 103, 137, 64) 73792       conv2d_3[0][0]                   \n",
            "__________________________________________________________________________________________________\n",
            "conv2d_5 (Conv2D)               (None, 103, 137, 64) 36928       conv2d_4[0][0]                   \n",
            "__________________________________________________________________________________________________\n",
            "conv2d_6 (Conv2D)               (None, 103, 137, 64) 36928       conv2d_5[0][0]                   \n",
            "__________________________________________________________________________________________________\n",
            "tf_op_layer_Add (TensorFlowOpLa (None, 103, 137, 64) 0           conv2d_6[0][0]                   \n",
            "                                                                 conv2d_4[0][0]                   \n",
            "__________________________________________________________________________________________________\n",
            "tf_op_layer_Relu (TensorFlowOpL (None, 103, 137, 64) 0           tf_op_layer_Add[0][0]            \n",
            "__________________________________________________________________________________________________\n",
            "conv2d_7 (Conv2D)               (None, 103, 137, 64) 36928       tf_op_layer_Relu[0][0]           \n",
            "__________________________________________________________________________________________________\n",
            "conv2d_8 (Conv2D)               (None, 103, 137, 64) 36928       conv2d_7[0][0]                   \n",
            "__________________________________________________________________________________________________\n",
            "conv2d_9 (Conv2D)               (None, 103, 137, 64) 36928       conv2d_8[0][0]                   \n",
            "__________________________________________________________________________________________________\n",
            "tf_op_layer_Add_1 (TensorFlowOp (None, 103, 137, 64) 0           conv2d_9[0][0]                   \n",
            "                                                                 conv2d_7[0][0]                   \n",
            "__________________________________________________________________________________________________\n",
            "tf_op_layer_Relu_1 (TensorFlowO (None, 103, 137, 64) 0           tf_op_layer_Add_1[0][0]          \n",
            "__________________________________________________________________________________________________\n",
            "conv2d_10 (Conv2D)              (None, 103, 137, 64) 36928       tf_op_layer_Relu_1[0][0]         \n",
            "__________________________________________________________________________________________________\n",
            "conv2d_11 (Conv2D)              (None, 103, 137, 64) 36928       conv2d_10[0][0]                  \n",
            "__________________________________________________________________________________________________\n",
            "conv2d_12 (Conv2D)              (None, 103, 137, 64) 36928       conv2d_11[0][0]                  \n",
            "__________________________________________________________________________________________________\n",
            "conv2d_13 (Conv2D)              (None, 103, 137, 64) 36928       conv2d_12[0][0]                  \n",
            "__________________________________________________________________________________________________\n",
            "conv2d_14 (Conv2D)              (None, 103, 137, 64) 36928       conv2d_13[0][0]                  \n",
            "__________________________________________________________________________________________________\n",
            "tf_op_layer_Add_2 (TensorFlowOp (None, 103, 137, 64) 0           conv2d_14[0][0]                  \n",
            "                                                                 conv2d_10[0][0]                  \n",
            "__________________________________________________________________________________________________\n",
            "tf_op_layer_Relu_2 (TensorFlowO (None, 103, 137, 64) 0           tf_op_layer_Add_2[0][0]          \n",
            "__________________________________________________________________________________________________\n",
            "conv2d_15 (Conv2D)              (None, 103, 137, 64) 36928       tf_op_layer_Relu_2[0][0]         \n",
            "__________________________________________________________________________________________________\n",
            "conv2d_16 (Conv2D)              (None, 103, 137, 64) 36928       conv2d_15[0][0]                  \n",
            "__________________________________________________________________________________________________\n",
            "conv2d_17 (Conv2D)              (None, 103, 137, 64) 36928       conv2d_16[0][0]                  \n",
            "__________________________________________________________________________________________________\n",
            "conv2d_18 (Conv2D)              (None, 103, 137, 64) 36928       conv2d_17[0][0]                  \n",
            "__________________________________________________________________________________________________\n",
            "conv2d_22 (Conv2D)              (None, 412, 548, 64) 1792        input_1[0][0]                    \n",
            "__________________________________________________________________________________________________\n",
            "conv2d_19 (Conv2D)              (None, 103, 137, 64) 36928       conv2d_18[0][0]                  \n",
            "__________________________________________________________________________________________________\n",
            "conv2d_23 (Conv2D)              (None, 412, 548, 64) 36928       conv2d_22[0][0]                  \n",
            "__________________________________________________________________________________________________\n",
            "tf_op_layer_Add_3 (TensorFlowOp (None, 103, 137, 64) 0           conv2d_19[0][0]                  \n",
            "                                                                 conv2d_15[0][0]                  \n",
            "__________________________________________________________________________________________________\n",
            "conv2d_24 (Conv2D)              (None, 412, 548, 64) 36928       conv2d_23[0][0]                  \n",
            "__________________________________________________________________________________________________\n",
            "tf_op_layer_Relu_3 (TensorFlowO (None, 103, 137, 64) 0           tf_op_layer_Add_3[0][0]          \n",
            "__________________________________________________________________________________________________\n",
            "conv2d_25 (Conv2D)              (None, 412, 548, 64) 36928       conv2d_24[0][0]                  \n",
            "__________________________________________________________________________________________________\n",
            "conv2d_transpose (Conv2DTranspo (None, 206, 274, 64) 36928       tf_op_layer_Relu_3[0][0]         \n",
            "__________________________________________________________________________________________________\n",
            "conv2d_26 (Conv2D)              (None, 412, 548, 64) 36928       conv2d_25[0][0]                  \n",
            "__________________________________________________________________________________________________\n",
            "conv2d_transpose_1 (Conv2DTrans (None, 412, 548, 64) 36928       conv2d_transpose[0][0]           \n",
            "__________________________________________________________________________________________________\n",
            "conv2d_27 (Conv2D)              (None, 412, 548, 64) 36928       conv2d_26[0][0]                  \n",
            "__________________________________________________________________________________________________\n",
            "conv2d_20 (Conv2D)              (None, 412, 548, 64) 36928       conv2d_transpose_1[0][0]         \n",
            "__________________________________________________________________________________________________\n",
            "conv2d_transpose_2 (Conv2DTrans (None, 412, 548, 64) 36928       conv2d_27[0][0]                  \n",
            "__________________________________________________________________________________________________\n",
            "conv2d_21 (Conv2D)              (None, 412, 548, 3)  1731        conv2d_20[0][0]                  \n",
            "__________________________________________________________________________________________________\n",
            "conv2d_28 (Conv2D)              (None, 412, 548, 3)  1731        conv2d_transpose_2[0][0]         \n",
            "__________________________________________________________________________________________________\n",
            "tf_op_layer_Add_4 (TensorFlowOp (None, 412, 548, 3)  0           conv2d_21[0][0]                  \n",
            "                                                                 input_1[0][0]                    \n",
            "__________________________________________________________________________________________________\n",
            "tf_op_layer_Add_5 (TensorFlowOp (None, 412, 548, 3)  0           conv2d_28[0][0]                  \n",
            "                                                                 input_1[0][0]                    \n",
            "__________________________________________________________________________________________________\n",
            "tf_op_layer_Relu_4 (TensorFlowO (None, 412, 548, 3)  0           tf_op_layer_Add_4[0][0]          \n",
            "__________________________________________________________________________________________________\n",
            "tf_op_layer_Relu_5 (TensorFlowO (None, 412, 548, 3)  0           tf_op_layer_Add_5[0][0]          \n",
            "__________________________________________________________________________________________________\n",
            "tf_op_layer_Add_6 (TensorFlowOp (None, 412, 548, 3)  0           tf_op_layer_Relu_4[0][0]         \n",
            "                                                                 tf_op_layer_Relu_5[0][0]         \n",
            "==================================================================================================\n",
            "Total params: 1,225,478\n",
            "Trainable params: 1,225,478\n",
            "Non-trainable params: 0\n",
            "__________________________________________________________________________________________________\n"
          ],
          "name": "stdout"
        }
      ]
    },
    {
      "cell_type": "code",
      "metadata": {
        "id": "XGiDJw8pBDUu",
        "outputId": "cb637750-699b-4d40-eef2-434edf54b0ac",
        "colab": {
          "base_uri": "https://localhost:8080/"
        }
      },
      "source": [
        "model.summary()\n"
      ],
      "execution_count": 32,
      "outputs": [
        {
          "output_type": "stream",
          "text": [
            "Model: \"model_4\"\n",
            "__________________________________________________________________________________________________\n",
            "Layer (type)                    Output Shape         Param #     Connected to                     \n",
            "==================================================================================================\n",
            "input_5 (InputLayer)            [(None, 412, 548, 3) 0                                            \n",
            "__________________________________________________________________________________________________\n",
            "conv2d_120 (Conv2D)             (None, 412, 548, 64) 1792        input_5[0][0]                    \n",
            "__________________________________________________________________________________________________\n",
            "conv2d_121 (Conv2D)             (None, 412, 548, 64) 36928       conv2d_120[0][0]                 \n",
            "__________________________________________________________________________________________________\n",
            "conv2d_122 (Conv2D)             (None, 206, 274, 128 73856       conv2d_121[0][0]                 \n",
            "__________________________________________________________________________________________________\n",
            "conv2d_123 (Conv2D)             (None, 103, 137, 128 147584      conv2d_122[0][0]                 \n",
            "__________________________________________________________________________________________________\n",
            "conv2d_124 (Conv2D)             (None, 103, 137, 64) 73792       conv2d_123[0][0]                 \n",
            "__________________________________________________________________________________________________\n",
            "conv2d_125 (Conv2D)             (None, 103, 137, 64) 36928       conv2d_124[0][0]                 \n",
            "__________________________________________________________________________________________________\n",
            "conv2d_126 (Conv2D)             (None, 103, 137, 64) 36928       conv2d_125[0][0]                 \n",
            "__________________________________________________________________________________________________\n",
            "tf.math.add_28 (TFOpLambda)     (None, 103, 137, 64) 0           conv2d_126[0][0]                 \n",
            "                                                                 conv2d_124[0][0]                 \n",
            "__________________________________________________________________________________________________\n",
            "tf.nn.relu_24 (TFOpLambda)      (None, 103, 137, 64) 0           tf.math.add_28[0][0]             \n",
            "__________________________________________________________________________________________________\n",
            "conv2d_127 (Conv2D)             (None, 103, 137, 64) 36928       tf.nn.relu_24[0][0]              \n",
            "__________________________________________________________________________________________________\n",
            "conv2d_128 (Conv2D)             (None, 103, 137, 64) 36928       conv2d_127[0][0]                 \n",
            "__________________________________________________________________________________________________\n",
            "conv2d_129 (Conv2D)             (None, 103, 137, 64) 36928       conv2d_128[0][0]                 \n",
            "__________________________________________________________________________________________________\n",
            "tf.math.add_29 (TFOpLambda)     (None, 103, 137, 64) 0           conv2d_129[0][0]                 \n",
            "                                                                 conv2d_127[0][0]                 \n",
            "__________________________________________________________________________________________________\n",
            "tf.nn.relu_25 (TFOpLambda)      (None, 103, 137, 64) 0           tf.math.add_29[0][0]             \n",
            "__________________________________________________________________________________________________\n",
            "conv2d_130 (Conv2D)             (None, 103, 137, 64) 36928       tf.nn.relu_25[0][0]              \n",
            "__________________________________________________________________________________________________\n",
            "conv2d_131 (Conv2D)             (None, 103, 137, 64) 36928       conv2d_130[0][0]                 \n",
            "__________________________________________________________________________________________________\n",
            "conv2d_132 (Conv2D)             (None, 103, 137, 64) 36928       conv2d_131[0][0]                 \n",
            "__________________________________________________________________________________________________\n",
            "conv2d_133 (Conv2D)             (None, 103, 137, 64) 36928       conv2d_132[0][0]                 \n",
            "__________________________________________________________________________________________________\n",
            "conv2d_134 (Conv2D)             (None, 103, 137, 64) 36928       conv2d_133[0][0]                 \n",
            "__________________________________________________________________________________________________\n",
            "tf.math.add_30 (TFOpLambda)     (None, 103, 137, 64) 0           conv2d_134[0][0]                 \n",
            "                                                                 conv2d_130[0][0]                 \n",
            "__________________________________________________________________________________________________\n",
            "tf.nn.relu_26 (TFOpLambda)      (None, 103, 137, 64) 0           tf.math.add_30[0][0]             \n",
            "__________________________________________________________________________________________________\n",
            "conv2d_135 (Conv2D)             (None, 103, 137, 64) 36928       tf.nn.relu_26[0][0]              \n",
            "__________________________________________________________________________________________________\n",
            "conv2d_136 (Conv2D)             (None, 103, 137, 64) 36928       conv2d_135[0][0]                 \n",
            "__________________________________________________________________________________________________\n",
            "conv2d_137 (Conv2D)             (None, 103, 137, 64) 36928       conv2d_136[0][0]                 \n",
            "__________________________________________________________________________________________________\n",
            "conv2d_138 (Conv2D)             (None, 103, 137, 64) 36928       conv2d_137[0][0]                 \n",
            "__________________________________________________________________________________________________\n",
            "conv2d_142 (Conv2D)             (None, 412, 548, 64) 1792        input_5[0][0]                    \n",
            "__________________________________________________________________________________________________\n",
            "conv2d_139 (Conv2D)             (None, 103, 137, 64) 36928       conv2d_138[0][0]                 \n",
            "__________________________________________________________________________________________________\n",
            "conv2d_143 (Conv2D)             (None, 412, 548, 64) 36928       conv2d_142[0][0]                 \n",
            "__________________________________________________________________________________________________\n",
            "tf.math.add_31 (TFOpLambda)     (None, 103, 137, 64) 0           conv2d_139[0][0]                 \n",
            "                                                                 conv2d_135[0][0]                 \n",
            "__________________________________________________________________________________________________\n",
            "conv2d_144 (Conv2D)             (None, 412, 548, 64) 36928       conv2d_143[0][0]                 \n",
            "__________________________________________________________________________________________________\n",
            "tf.nn.relu_27 (TFOpLambda)      (None, 103, 137, 64) 0           tf.math.add_31[0][0]             \n",
            "__________________________________________________________________________________________________\n",
            "conv2d_145 (Conv2D)             (None, 412, 548, 64) 36928       conv2d_144[0][0]                 \n",
            "__________________________________________________________________________________________________\n",
            "conv2d_transpose_12 (Conv2DTran (None, 206, 274, 64) 36928       tf.nn.relu_27[0][0]              \n",
            "__________________________________________________________________________________________________\n",
            "conv2d_146 (Conv2D)             (None, 412, 548, 64) 36928       conv2d_145[0][0]                 \n",
            "__________________________________________________________________________________________________\n",
            "conv2d_transpose_13 (Conv2DTran (None, 412, 548, 64) 36928       conv2d_transpose_12[0][0]        \n",
            "__________________________________________________________________________________________________\n",
            "conv2d_147 (Conv2D)             (None, 412, 548, 64) 36928       conv2d_146[0][0]                 \n",
            "__________________________________________________________________________________________________\n",
            "conv2d_140 (Conv2D)             (None, 412, 548, 64) 36928       conv2d_transpose_13[0][0]        \n",
            "__________________________________________________________________________________________________\n",
            "conv2d_transpose_14 (Conv2DTran (None, 412, 548, 64) 36928       conv2d_147[0][0]                 \n",
            "__________________________________________________________________________________________________\n",
            "conv2d_141 (Conv2D)             (None, 412, 548, 3)  1731        conv2d_140[0][0]                 \n",
            "__________________________________________________________________________________________________\n",
            "conv2d_148 (Conv2D)             (None, 412, 548, 3)  1731        conv2d_transpose_14[0][0]        \n",
            "__________________________________________________________________________________________________\n",
            "tf.math.add_32 (TFOpLambda)     (None, 412, 548, 3)  0           conv2d_141[0][0]                 \n",
            "                                                                 input_5[0][0]                    \n",
            "__________________________________________________________________________________________________\n",
            "tf.math.add_33 (TFOpLambda)     (None, 412, 548, 3)  0           conv2d_148[0][0]                 \n",
            "                                                                 input_5[0][0]                    \n",
            "__________________________________________________________________________________________________\n",
            "tf.nn.relu_28 (TFOpLambda)      (None, 412, 548, 3)  0           tf.math.add_32[0][0]             \n",
            "__________________________________________________________________________________________________\n",
            "tf.nn.relu_29 (TFOpLambda)      (None, 412, 548, 3)  0           tf.math.add_33[0][0]             \n",
            "__________________________________________________________________________________________________\n",
            "tf.math.add_34 (TFOpLambda)     (None, 412, 548, 3)  0           tf.nn.relu_28[0][0]              \n",
            "                                                                 tf.nn.relu_29[0][0]              \n",
            "==================================================================================================\n",
            "Total params: 1,225,478\n",
            "Trainable params: 1,225,478\n",
            "Non-trainable params: 0\n",
            "__________________________________________________________________________________________________\n"
          ],
          "name": "stdout"
        }
      ]
    },
    {
      "cell_type": "code",
      "metadata": {
        "id": "4rnhcQCjBL7P"
      },
      "source": [
        "from tensorflow.python.training import py_checkpoint_reader\n",
        "def print_tensors_in_checkpoint_file(file_name, tensor_name, all_tensors,\n",
        "                                     all_tensor_names=False,\n",
        "                                     count_exclude_pattern=\"\"):\n",
        "  \"\"\"Prints tensors in a checkpoint file.\n",
        "  If no `tensor_name` is provided, prints the tensor names and shapes\n",
        "  in the checkpoint file.\n",
        "  If `tensor_name` is provided, prints the content of the tensor.\n",
        "  Args:\n",
        "    file_name: Name of the checkpoint file.\n",
        "    tensor_name: Name of the tensor in the checkpoint file to print.\n",
        "    all_tensors: Boolean indicating whether to print all tensors.\n",
        "    all_tensor_names: Boolean indicating whether to print all tensor names.\n",
        "    count_exclude_pattern: Regex string, pattern to exclude tensors when count.\n",
        "  \"\"\"\n",
        "  try:\n",
        "    reader = py_checkpoint_reader.NewCheckpointReader(file_name)\n",
        "    if all_tensors or all_tensor_names:\n",
        "      var_to_shape_map = reader.get_variable_to_shape_map()\n",
        "      var_to_dtype_map = reader.get_variable_to_dtype_map()\n",
        "      for key, value in sorted(var_to_shape_map.items()):\n",
        "        print(\"tensor: %s (%s) %s\" % (key, var_to_dtype_map[key].name, value))\n",
        "        if all_tensors:\n",
        "          print(reader.get_tensor(key))\n",
        "    elif not tensor_name:\n",
        "      print(reader.debug_string().decode(\"utf-8\", errors=\"ignore\"))\n",
        "    else:\n",
        "      if not reader.has_tensor(tensor_name):\n",
        "        print(\"Tensor %s not found in checkpoint\" % tensor_name)\n",
        "        return\n",
        "\n",
        "      var_to_shape_map = reader.get_variable_to_shape_map()\n",
        "      var_to_dtype_map = reader.get_variable_to_dtype_map()\n",
        "      print(\"tensor: %s (%s) %s\" %\n",
        "            (tensor_name, var_to_dtype_map[tensor_name].name,\n",
        "             var_to_shape_map[tensor_name]))\n",
        "      print(reader.get_tensor(tensor_name))\n",
        "\n",
        "    # Count total number of parameters\n",
        "    print(\"# Total number of params: %d\" % _count_total_params(\n",
        "        reader, count_exclude_pattern=count_exclude_pattern))\n",
        "  except Exception as e:  # pylint: disable=broad-except\n",
        "    print(str(e))\n",
        "    if \"corrupted compressed block contents\" in str(e):\n",
        "      print(\"It's likely that your checkpoint file has been compressed \"\n",
        "            \"with SNAPPY.\")\n",
        "    if (\"Data loss\" in str(e) and\n",
        "        any(e in file_name for e in [\".index\", \".meta\", \".data\"])):\n",
        "      proposed_file = \".\".join(file_name.split(\".\")[0:-1])\n",
        "      v2_file_error_template = \"\"\"\n",
        "It's likely that this is a V2 checkpoint and you need to provide the filename\n",
        "*prefix*.  Try removing the '.' and extension.  Try:\n",
        "inspect checkpoint --file_name = {}\"\"\"\n",
        "      print(v2_file_error_template.format(proposed_file))\n",
        "#print_tensors_in_checkpoint_file(file_name='/content/drive/MyDrive/demo/gman/checkpoints/model.ckpt-5000', tensor_name='', all_tensors=True).shape"
      ],
      "execution_count": 16,
      "outputs": []
    },
    {
      "cell_type": "code",
      "metadata": {
        "id": "kjWDyUaJB9Ht",
        "outputId": "2139244a-0c82-4bf6-bfc4-4af0018825d6",
        "colab": {
          "base_uri": "https://localhost:8080/",
          "height": 176
        }
      },
      "source": [
        "ckpt_reader = tf.train.load_checkpoint('/content/drive/MyDrive/demo/gman/checkpoints/model.ckpt-5000')\n",
        "value = ckpt_reader.get_tensor(name_of_the_tensor)"
      ],
      "execution_count": 17,
      "outputs": [
        {
          "output_type": "error",
          "ename": "NameError",
          "evalue": "ignored",
          "traceback": [
            "\u001b[0;31m---------------------------------------------------------------------------\u001b[0m",
            "\u001b[0;31mNameError\u001b[0m                                 Traceback (most recent call last)",
            "\u001b[0;32m<ipython-input-17-35a01117996e>\u001b[0m in \u001b[0;36m<module>\u001b[0;34m()\u001b[0m\n\u001b[1;32m      1\u001b[0m \u001b[0mckpt_reader\u001b[0m \u001b[0;34m=\u001b[0m \u001b[0mtf\u001b[0m\u001b[0;34m.\u001b[0m\u001b[0mtrain\u001b[0m\u001b[0;34m.\u001b[0m\u001b[0mload_checkpoint\u001b[0m\u001b[0;34m(\u001b[0m\u001b[0;34m'/content/drive/MyDrive/demo/gman/checkpoints/model.ckpt-5000'\u001b[0m\u001b[0;34m)\u001b[0m\u001b[0;34m\u001b[0m\u001b[0;34m\u001b[0m\u001b[0m\n\u001b[0;32m----> 2\u001b[0;31m \u001b[0mvalue\u001b[0m \u001b[0;34m=\u001b[0m \u001b[0mckpt_reader\u001b[0m\u001b[0;34m.\u001b[0m\u001b[0mget_tensor\u001b[0m\u001b[0;34m(\u001b[0m\u001b[0mname_of_the_tensor\u001b[0m\u001b[0;34m)\u001b[0m\u001b[0;34m\u001b[0m\u001b[0;34m\u001b[0m\u001b[0m\n\u001b[0m",
            "\u001b[0;31mNameError\u001b[0m: name 'name_of_the_tensor' is not defined"
          ]
        }
      ]
    },
    {
      "cell_type": "code",
      "metadata": {
        "id": "E6GuIWudCAxa",
        "outputId": "9b0a9fe2-b461-4f45-c83a-ec3dac5b136c",
        "colab": {
          "base_uri": "https://localhost:8080/"
        }
      },
      "source": [
        "tf.train.list_variables('/content/drive/MyDrive/demo/gman/checkpoints/model.ckpt-5000'   \n",
        ")"
      ],
      "execution_count": 21,
      "outputs": [
        {
          "output_type": "execute_result",
          "data": {
            "text/plain": [
              "[('DehazeNet/DN_conv1_1/biases', [64]),\n",
              " ('DehazeNet/DN_conv1_1/biases/Adam', [64]),\n",
              " ('DehazeNet/DN_conv1_1/biases/Adam_1', [64]),\n",
              " ('DehazeNet/DN_conv1_1/biases/ExponentialMovingAverage', [64]),\n",
              " ('DehazeNet/DN_conv1_1/weights', [3, 3, 3, 64]),\n",
              " ('DehazeNet/DN_conv1_1/weights/Adam', [3, 3, 3, 64]),\n",
              " ('DehazeNet/DN_conv1_1/weights/Adam_1', [3, 3, 3, 64]),\n",
              " ('DehazeNet/DN_conv1_1/weights/ExponentialMovingAverage', [3, 3, 3, 64]),\n",
              " ('DehazeNet/DN_conv1_2/biases', [64]),\n",
              " ('DehazeNet/DN_conv1_2/biases/Adam', [64]),\n",
              " ('DehazeNet/DN_conv1_2/biases/Adam_1', [64]),\n",
              " ('DehazeNet/DN_conv1_2/biases/ExponentialMovingAverage', [64]),\n",
              " ('DehazeNet/DN_conv1_2/weights', [3, 3, 64, 64]),\n",
              " ('DehazeNet/DN_conv1_2/weights/Adam', [3, 3, 64, 64]),\n",
              " ('DehazeNet/DN_conv1_2/weights/Adam_1', [3, 3, 64, 64]),\n",
              " ('DehazeNet/DN_conv1_2/weights/ExponentialMovingAverage', [3, 3, 64, 64]),\n",
              " ('DehazeNet/DN_conv2_1/biases', [64]),\n",
              " ('DehazeNet/DN_conv2_1/biases/Adam', [64]),\n",
              " ('DehazeNet/DN_conv2_1/biases/Adam_1', [64]),\n",
              " ('DehazeNet/DN_conv2_1/biases/ExponentialMovingAverage', [64]),\n",
              " ('DehazeNet/DN_conv2_1/weights', [3, 3, 128, 64]),\n",
              " ('DehazeNet/DN_conv2_1/weights/Adam', [3, 3, 128, 64]),\n",
              " ('DehazeNet/DN_conv2_1/weights/Adam_1', [3, 3, 128, 64]),\n",
              " ('DehazeNet/DN_conv2_1/weights/ExponentialMovingAverage', [3, 3, 128, 64]),\n",
              " ('DehazeNet/DN_conv2_2/biases', [64]),\n",
              " ('DehazeNet/DN_conv2_2/biases/Adam', [64]),\n",
              " ('DehazeNet/DN_conv2_2/biases/Adam_1', [64]),\n",
              " ('DehazeNet/DN_conv2_2/biases/ExponentialMovingAverage', [64]),\n",
              " ('DehazeNet/DN_conv2_2/weights', [3, 3, 64, 64]),\n",
              " ('DehazeNet/DN_conv2_2/weights/Adam', [3, 3, 64, 64]),\n",
              " ('DehazeNet/DN_conv2_2/weights/Adam_1', [3, 3, 64, 64]),\n",
              " ('DehazeNet/DN_conv2_2/weights/ExponentialMovingAverage', [3, 3, 64, 64]),\n",
              " ('DehazeNet/DN_conv2_3/biases_nonacti', [64]),\n",
              " ('DehazeNet/DN_conv2_3/biases_nonacti/Adam', [64]),\n",
              " ('DehazeNet/DN_conv2_3/biases_nonacti/Adam_1', [64]),\n",
              " ('DehazeNet/DN_conv2_3/biases_nonacti/ExponentialMovingAverage', [64]),\n",
              " ('DehazeNet/DN_conv2_3/weights_nonacti', [3, 3, 64, 64]),\n",
              " ('DehazeNet/DN_conv2_3/weights_nonacti/Adam', [3, 3, 64, 64]),\n",
              " ('DehazeNet/DN_conv2_3/weights_nonacti/Adam_1', [3, 3, 64, 64]),\n",
              " ('DehazeNet/DN_conv2_3/weights_nonacti/ExponentialMovingAverage',\n",
              "  [3, 3, 64, 64]),\n",
              " ('DehazeNet/DN_conv3_1/biases', [64]),\n",
              " ('DehazeNet/DN_conv3_1/biases/Adam', [64]),\n",
              " ('DehazeNet/DN_conv3_1/biases/Adam_1', [64]),\n",
              " ('DehazeNet/DN_conv3_1/biases/ExponentialMovingAverage', [64]),\n",
              " ('DehazeNet/DN_conv3_1/weights', [3, 3, 64, 64]),\n",
              " ('DehazeNet/DN_conv3_1/weights/Adam', [3, 3, 64, 64]),\n",
              " ('DehazeNet/DN_conv3_1/weights/Adam_1', [3, 3, 64, 64]),\n",
              " ('DehazeNet/DN_conv3_1/weights/ExponentialMovingAverage', [3, 3, 64, 64]),\n",
              " ('DehazeNet/DN_conv3_2/biases', [64]),\n",
              " ('DehazeNet/DN_conv3_2/biases/Adam', [64]),\n",
              " ('DehazeNet/DN_conv3_2/biases/Adam_1', [64]),\n",
              " ('DehazeNet/DN_conv3_2/biases/ExponentialMovingAverage', [64]),\n",
              " ('DehazeNet/DN_conv3_2/weights', [3, 3, 64, 64]),\n",
              " ('DehazeNet/DN_conv3_2/weights/Adam', [3, 3, 64, 64]),\n",
              " ('DehazeNet/DN_conv3_2/weights/Adam_1', [3, 3, 64, 64]),\n",
              " ('DehazeNet/DN_conv3_2/weights/ExponentialMovingAverage', [3, 3, 64, 64]),\n",
              " ('DehazeNet/DN_conv3_3/biases_nonacti', [64]),\n",
              " ('DehazeNet/DN_conv3_3/biases_nonacti/Adam', [64]),\n",
              " ('DehazeNet/DN_conv3_3/biases_nonacti/Adam_1', [64]),\n",
              " ('DehazeNet/DN_conv3_3/biases_nonacti/ExponentialMovingAverage', [64]),\n",
              " ('DehazeNet/DN_conv3_3/weights_nonacti', [3, 3, 64, 64]),\n",
              " ('DehazeNet/DN_conv3_3/weights_nonacti/Adam', [3, 3, 64, 64]),\n",
              " ('DehazeNet/DN_conv3_3/weights_nonacti/Adam_1', [3, 3, 64, 64]),\n",
              " ('DehazeNet/DN_conv3_3/weights_nonacti/ExponentialMovingAverage',\n",
              "  [3, 3, 64, 64]),\n",
              " ('DehazeNet/DN_conv4_1/biases', [64]),\n",
              " ('DehazeNet/DN_conv4_1/biases/Adam', [64]),\n",
              " ('DehazeNet/DN_conv4_1/biases/Adam_1', [64]),\n",
              " ('DehazeNet/DN_conv4_1/biases/ExponentialMovingAverage', [64]),\n",
              " ('DehazeNet/DN_conv4_1/weights', [3, 3, 64, 64]),\n",
              " ('DehazeNet/DN_conv4_1/weights/Adam', [3, 3, 64, 64]),\n",
              " ('DehazeNet/DN_conv4_1/weights/Adam_1', [3, 3, 64, 64]),\n",
              " ('DehazeNet/DN_conv4_1/weights/ExponentialMovingAverage', [3, 3, 64, 64]),\n",
              " ('DehazeNet/DN_conv4_2/biases', [64]),\n",
              " ('DehazeNet/DN_conv4_2/biases/Adam', [64]),\n",
              " ('DehazeNet/DN_conv4_2/biases/Adam_1', [64]),\n",
              " ('DehazeNet/DN_conv4_2/biases/ExponentialMovingAverage', [64]),\n",
              " ('DehazeNet/DN_conv4_2/weights', [3, 3, 64, 64]),\n",
              " ('DehazeNet/DN_conv4_2/weights/Adam', [3, 3, 64, 64]),\n",
              " ('DehazeNet/DN_conv4_2/weights/Adam_1', [3, 3, 64, 64]),\n",
              " ('DehazeNet/DN_conv4_2/weights/ExponentialMovingAverage', [3, 3, 64, 64]),\n",
              " ('DehazeNet/DN_conv4_3/biases', [64]),\n",
              " ('DehazeNet/DN_conv4_3/biases/Adam', [64]),\n",
              " ('DehazeNet/DN_conv4_3/biases/Adam_1', [64]),\n",
              " ('DehazeNet/DN_conv4_3/biases/ExponentialMovingAverage', [64]),\n",
              " ('DehazeNet/DN_conv4_3/weights', [3, 3, 64, 64]),\n",
              " ('DehazeNet/DN_conv4_3/weights/Adam', [3, 3, 64, 64]),\n",
              " ('DehazeNet/DN_conv4_3/weights/Adam_1', [3, 3, 64, 64]),\n",
              " ('DehazeNet/DN_conv4_3/weights/ExponentialMovingAverage', [3, 3, 64, 64]),\n",
              " ('DehazeNet/DN_conv4_4/biases', [64]),\n",
              " ('DehazeNet/DN_conv4_4/biases/Adam', [64]),\n",
              " ('DehazeNet/DN_conv4_4/biases/Adam_1', [64]),\n",
              " ('DehazeNet/DN_conv4_4/biases/ExponentialMovingAverage', [64]),\n",
              " ('DehazeNet/DN_conv4_4/weights', [3, 3, 64, 64]),\n",
              " ('DehazeNet/DN_conv4_4/weights/Adam', [3, 3, 64, 64]),\n",
              " ('DehazeNet/DN_conv4_4/weights/Adam_1', [3, 3, 64, 64]),\n",
              " ('DehazeNet/DN_conv4_4/weights/ExponentialMovingAverage', [3, 3, 64, 64]),\n",
              " ('DehazeNet/DN_conv4_5/biases_nonacti', [64]),\n",
              " ('DehazeNet/DN_conv4_5/biases_nonacti/Adam', [64]),\n",
              " ('DehazeNet/DN_conv4_5/biases_nonacti/Adam_1', [64]),\n",
              " ('DehazeNet/DN_conv4_5/biases_nonacti/ExponentialMovingAverage', [64]),\n",
              " ('DehazeNet/DN_conv4_5/weights_nonacti', [3, 3, 64, 64]),\n",
              " ('DehazeNet/DN_conv4_5/weights_nonacti/Adam', [3, 3, 64, 64]),\n",
              " ('DehazeNet/DN_conv4_5/weights_nonacti/Adam_1', [3, 3, 64, 64]),\n",
              " ('DehazeNet/DN_conv4_5/weights_nonacti/ExponentialMovingAverage',\n",
              "  [3, 3, 64, 64]),\n",
              " ('DehazeNet/DN_conv5_1/biases', [64]),\n",
              " ('DehazeNet/DN_conv5_1/biases/Adam', [64]),\n",
              " ('DehazeNet/DN_conv5_1/biases/Adam_1', [64]),\n",
              " ('DehazeNet/DN_conv5_1/biases/ExponentialMovingAverage', [64]),\n",
              " ('DehazeNet/DN_conv5_1/weights', [3, 3, 64, 64]),\n",
              " ('DehazeNet/DN_conv5_1/weights/Adam', [3, 3, 64, 64]),\n",
              " ('DehazeNet/DN_conv5_1/weights/Adam_1', [3, 3, 64, 64]),\n",
              " ('DehazeNet/DN_conv5_1/weights/ExponentialMovingAverage', [3, 3, 64, 64]),\n",
              " ('DehazeNet/DN_conv5_2/biases', [64]),\n",
              " ('DehazeNet/DN_conv5_2/biases/Adam', [64]),\n",
              " ('DehazeNet/DN_conv5_2/biases/Adam_1', [64]),\n",
              " ('DehazeNet/DN_conv5_2/biases/ExponentialMovingAverage', [64]),\n",
              " ('DehazeNet/DN_conv5_2/weights', [3, 3, 64, 64]),\n",
              " ('DehazeNet/DN_conv5_2/weights/Adam', [3, 3, 64, 64]),\n",
              " ('DehazeNet/DN_conv5_2/weights/Adam_1', [3, 3, 64, 64]),\n",
              " ('DehazeNet/DN_conv5_2/weights/ExponentialMovingAverage', [3, 3, 64, 64]),\n",
              " ('DehazeNet/DN_conv5_3/biases', [64]),\n",
              " ('DehazeNet/DN_conv5_3/biases/Adam', [64]),\n",
              " ('DehazeNet/DN_conv5_3/biases/Adam_1', [64]),\n",
              " ('DehazeNet/DN_conv5_3/biases/ExponentialMovingAverage', [64]),\n",
              " ('DehazeNet/DN_conv5_3/weights', [3, 3, 64, 64]),\n",
              " ('DehazeNet/DN_conv5_3/weights/Adam', [3, 3, 64, 64]),\n",
              " ('DehazeNet/DN_conv5_3/weights/Adam_1', [3, 3, 64, 64]),\n",
              " ('DehazeNet/DN_conv5_3/weights/ExponentialMovingAverage', [3, 3, 64, 64]),\n",
              " ('DehazeNet/DN_conv5_4/biases', [64]),\n",
              " ('DehazeNet/DN_conv5_4/biases/Adam', [64]),\n",
              " ('DehazeNet/DN_conv5_4/biases/Adam_1', [64]),\n",
              " ('DehazeNet/DN_conv5_4/biases/ExponentialMovingAverage', [64]),\n",
              " ('DehazeNet/DN_conv5_4/weights', [3, 3, 64, 64]),\n",
              " ('DehazeNet/DN_conv5_4/weights/Adam', [3, 3, 64, 64]),\n",
              " ('DehazeNet/DN_conv5_4/weights/Adam_1', [3, 3, 64, 64]),\n",
              " ('DehazeNet/DN_conv5_4/weights/ExponentialMovingAverage', [3, 3, 64, 64]),\n",
              " ('DehazeNet/DN_conv5_5/biases_nonacti', [64]),\n",
              " ('DehazeNet/DN_conv5_5/biases_nonacti/Adam', [64]),\n",
              " ('DehazeNet/DN_conv5_5/biases_nonacti/Adam_1', [64]),\n",
              " ('DehazeNet/DN_conv5_5/biases_nonacti/ExponentialMovingAverage', [64]),\n",
              " ('DehazeNet/DN_conv5_5/weights_nonacti', [3, 3, 64, 64]),\n",
              " ('DehazeNet/DN_conv5_5/weights_nonacti/Adam', [3, 3, 64, 64]),\n",
              " ('DehazeNet/DN_conv5_5/weights_nonacti/Adam_1', [3, 3, 64, 64]),\n",
              " ('DehazeNet/DN_conv5_5/weights_nonacti/ExponentialMovingAverage',\n",
              "  [3, 3, 64, 64]),\n",
              " ('DehazeNet/DN_conv7_1/biases_nonacti', [3]),\n",
              " ('DehazeNet/DN_conv7_1/biases_nonacti/Adam', [3]),\n",
              " ('DehazeNet/DN_conv7_1/biases_nonacti/Adam_1', [3]),\n",
              " ('DehazeNet/DN_conv7_1/biases_nonacti/ExponentialMovingAverage', [3]),\n",
              " ('DehazeNet/DN_conv7_1/weights_nonacti', [3, 3, 64, 3]),\n",
              " ('DehazeNet/DN_conv7_1/weights_nonacti/Adam', [3, 3, 64, 3]),\n",
              " ('DehazeNet/DN_conv7_1/weights_nonacti/Adam_1', [3, 3, 64, 3]),\n",
              " ('DehazeNet/DN_conv7_1/weights_nonacti/ExponentialMovingAverage',\n",
              "  [3, 3, 64, 3]),\n",
              " ('DehazeNet/DN_deconv1/weights', [3, 3, 64, 64]),\n",
              " ('DehazeNet/DN_deconv1/weights/Adam', [3, 3, 64, 64]),\n",
              " ('DehazeNet/DN_deconv1/weights/Adam_1', [3, 3, 64, 64]),\n",
              " ('DehazeNet/DN_deconv1/weights/ExponentialMovingAverage', [3, 3, 64, 64]),\n",
              " ('DehazeNet/DN_deconv2/weights', [3, 3, 64, 64]),\n",
              " ('DehazeNet/DN_deconv2/weights/Adam', [3, 3, 64, 64]),\n",
              " ('DehazeNet/DN_deconv2/weights/Adam_1', [3, 3, 64, 64]),\n",
              " ('DehazeNet/DN_deconv2/weights/ExponentialMovingAverage', [3, 3, 64, 64]),\n",
              " ('DehazeNet/upsampling_1/biases', [128]),\n",
              " ('DehazeNet/upsampling_1/biases/Adam', [128]),\n",
              " ('DehazeNet/upsampling_1/biases/Adam_1', [128]),\n",
              " ('DehazeNet/upsampling_1/biases/ExponentialMovingAverage', [128]),\n",
              " ('DehazeNet/upsampling_1/weights', [3, 3, 64, 128]),\n",
              " ('DehazeNet/upsampling_1/weights/Adam', [3, 3, 64, 128]),\n",
              " ('DehazeNet/upsampling_1/weights/Adam_1', [3, 3, 64, 128]),\n",
              " ('DehazeNet/upsampling_1/weights/ExponentialMovingAverage', [3, 3, 64, 128]),\n",
              " ('DehazeNet/upsampling_2/biases', [128]),\n",
              " ('DehazeNet/upsampling_2/biases/Adam', [128]),\n",
              " ('DehazeNet/upsampling_2/biases/Adam_1', [128]),\n",
              " ('DehazeNet/upsampling_2/biases/ExponentialMovingAverage', [128]),\n",
              " ('DehazeNet/upsampling_2/weights', [3, 3, 128, 128]),\n",
              " ('DehazeNet/upsampling_2/weights/Adam', [3, 3, 128, 128]),\n",
              " ('DehazeNet/upsampling_2/weights/Adam_1', [3, 3, 128, 128]),\n",
              " ('DehazeNet/upsampling_2/weights/ExponentialMovingAverage', [3, 3, 128, 128]),\n",
              " ('beta1_power', []),\n",
              " ('beta2_power', []),\n",
              " ('global_step', [])]"
            ]
          },
          "metadata": {
            "tags": []
          },
          "execution_count": 21
        }
      ]
    },
    {
      "cell_type": "code",
      "metadata": {
        "id": "alTKIWGYOCvh",
        "outputId": "3681e45d-1e4c-4e2d-f9b4-369407e3d711",
        "colab": {
          "base_uri": "https://localhost:8080/"
        }
      },
      "source": [
        "tf.train.load_variable('/content/drive/MyDrive/demo/gman/checkpoints/model.ckpt-5000','DehazeNet/DN_deconv1/weights')"
      ],
      "execution_count": 22,
      "outputs": [
        {
          "output_type": "execute_result",
          "data": {
            "text/plain": [
              "array([[[[ 6.83947504e-02, -1.63467098e-02,  2.43677036e-03, ...,\n",
              "           1.88263450e-02,  5.83241088e-03,  1.57084279e-02],\n",
              "         [ 5.05831465e-02, -2.15049591e-02, -3.75104435e-02, ...,\n",
              "          -3.14503461e-02, -1.88659038e-02,  1.42134530e-02],\n",
              "         [-5.25020547e-02, -1.82811711e-02, -9.84280482e-02, ...,\n",
              "           1.55164208e-02, -1.11791519e-02,  9.48212296e-02],\n",
              "         ...,\n",
              "         [-5.12261689e-02, -2.16365345e-02, -5.01585118e-02, ...,\n",
              "           1.37534877e-02,  6.13709167e-02,  7.04122009e-04],\n",
              "         [-1.10713951e-02, -2.79031992e-02,  5.75980656e-02, ...,\n",
              "          -2.88726762e-02, -2.72772741e-02,  1.51389223e-02],\n",
              "         [ 2.27272287e-02,  3.74514237e-02,  5.29065095e-02, ...,\n",
              "           4.58294377e-02, -5.06733693e-02, -2.71945558e-02]],\n",
              "\n",
              "        [[ 7.48729110e-02, -1.00296149e-02,  3.58599201e-02, ...,\n",
              "           3.27461921e-02, -3.58607322e-02, -5.65902032e-02],\n",
              "         [-1.68570541e-02,  3.09290458e-03, -3.78771871e-02, ...,\n",
              "           5.19243143e-02,  5.60826994e-03, -9.29386006e-04],\n",
              "         [ 4.56375219e-02,  1.63952187e-02, -1.18979216e-01, ...,\n",
              "           2.93335989e-02,  1.12717874e-01, -9.77167040e-02],\n",
              "         ...,\n",
              "         [-3.95646878e-02, -2.97461823e-02,  4.13805339e-03, ...,\n",
              "          -2.38510873e-02, -3.19175087e-02, -4.00941848e-04],\n",
              "         [-3.89255248e-02, -1.92892794e-02,  4.77199256e-03, ...,\n",
              "           5.41093238e-02,  4.15313318e-02,  1.10781807e-02],\n",
              "         [ 5.27215861e-02,  2.01564953e-02,  3.70012713e-04, ...,\n",
              "          -1.58564895e-02,  1.47162676e-02, -2.56081223e-02]],\n",
              "\n",
              "        [[ 1.72229316e-02,  2.09832154e-02, -3.56210466e-03, ...,\n",
              "           1.55648915e-02, -9.50771868e-02,  1.84428450e-02],\n",
              "         [-8.10162053e-02,  3.67193995e-03,  3.78727280e-02, ...,\n",
              "           2.51233503e-02, -1.07515499e-01,  2.23010927e-02],\n",
              "         [ 1.22372493e-01, -4.52013453e-03, -4.04552780e-02, ...,\n",
              "           2.44259443e-02, -4.81557958e-02, -5.56502566e-02],\n",
              "         ...,\n",
              "         [-1.69196278e-02,  1.72782056e-02, -1.88101828e-02, ...,\n",
              "          -5.20890066e-03, -1.01795858e-02, -1.02846054e-02],\n",
              "         [-3.93622406e-02, -3.69725749e-02, -1.27674723e-02, ...,\n",
              "           1.26447249e-02,  6.23416789e-02,  1.84336416e-02],\n",
              "         [ 5.42433187e-03, -1.61841214e-02, -7.76358554e-03, ...,\n",
              "          -8.60149600e-03,  3.99490111e-02,  3.50302011e-02]]],\n",
              "\n",
              "\n",
              "       [[[ 1.58166140e-02, -5.07867299e-02, -1.17125347e-01, ...,\n",
              "          -4.99144420e-02,  3.53152938e-02,  3.08680423e-02],\n",
              "         [-5.01858108e-02, -2.44368427e-02, -3.00838705e-02, ...,\n",
              "          -8.71534518e-04, -5.59341796e-02, -4.16786000e-02],\n",
              "         [-3.33140455e-02, -2.76990011e-02, -3.85303423e-02, ...,\n",
              "           5.01124039e-02, -2.73414385e-02,  4.86033261e-02],\n",
              "         ...,\n",
              "         [ 4.37953398e-02, -2.64574382e-02, -2.36364435e-02, ...,\n",
              "           1.47017010e-03,  3.71736363e-02, -1.75297931e-02],\n",
              "         [ 1.11824097e-02, -2.74068713e-02, -2.36492287e-02, ...,\n",
              "          -2.26771105e-02, -2.78264731e-02, -1.32448198e-02],\n",
              "         [ 9.61033278e-04, -3.92021565e-03, -1.75402202e-02, ...,\n",
              "           2.50750482e-02,  3.29592377e-02, -5.64173274e-02]],\n",
              "\n",
              "        [[-3.71614806e-02,  8.89138412e-03, -4.15669903e-02, ...,\n",
              "           1.00530088e-01, -9.44226701e-03, -6.10129070e-03],\n",
              "         [ 5.49534243e-03, -2.71457736e-03, -7.53456429e-02, ...,\n",
              "           5.94442375e-02, -6.94654211e-02,  2.98252795e-02],\n",
              "         [ 1.75485611e-02,  1.89497764e-03, -1.26251456e-04, ...,\n",
              "          -1.78752262e-02,  1.88071430e-01, -1.22612650e-02],\n",
              "         ...,\n",
              "         [-3.51538099e-02,  2.25730389e-02, -3.39973122e-02, ...,\n",
              "           8.69274791e-03, -4.03054431e-02, -4.50383797e-02],\n",
              "         [ 3.12871002e-02,  2.53157970e-03, -2.82319598e-02, ...,\n",
              "           5.63035607e-02, -2.40058661e-03, -2.60618748e-03],\n",
              "         [-3.27453241e-02, -1.19118923e-02, -2.96209697e-02, ...,\n",
              "          -9.87764727e-03, -2.14902647e-02,  3.19182985e-02]],\n",
              "\n",
              "        [[-8.25993065e-03,  1.71711463e-02,  5.39270230e-02, ...,\n",
              "          -2.16077119e-02, -2.13674307e-02, -2.55641937e-02],\n",
              "         [-7.68617168e-02,  1.32981297e-02, -4.90115061e-02, ...,\n",
              "           4.79005948e-02, -1.13567179e-02,  3.14672254e-02],\n",
              "         [-4.92337309e-02, -3.93582098e-02,  1.70309544e-02, ...,\n",
              "           4.90585016e-03, -7.26522040e-03, -4.82758544e-02],\n",
              "         ...,\n",
              "         [-5.63861383e-03,  1.37285041e-02, -4.30005454e-02, ...,\n",
              "          -1.85585171e-02, -3.59801874e-02,  4.91809857e-04],\n",
              "         [ 4.83131036e-02, -1.49620010e-03, -1.09850951e-02, ...,\n",
              "          -1.53426509e-02,  6.54197633e-02, -1.11808337e-03],\n",
              "         [-8.57101753e-03,  1.46987094e-02,  5.26297139e-04, ...,\n",
              "          -4.06510457e-02,  6.34708405e-02,  4.58218940e-02]]],\n",
              "\n",
              "\n",
              "       [[[-2.75582224e-02,  4.27361242e-02,  1.11402184e-01, ...,\n",
              "          -3.17030624e-02, -1.06732566e-02, -2.28551198e-02],\n",
              "         [ 6.24981418e-04,  1.23923784e-02,  4.57464494e-02, ...,\n",
              "           3.05805588e-03,  9.06226970e-03, -5.70085496e-02],\n",
              "         [ 3.08322324e-03, -6.66822419e-02,  6.73668683e-02, ...,\n",
              "           6.17434718e-02,  1.55759707e-01,  1.89646613e-02],\n",
              "         ...,\n",
              "         [ 1.87777914e-02, -1.06963357e-02, -6.34328648e-02, ...,\n",
              "          -4.27350169e-03, -4.39540111e-02, -2.57338937e-02],\n",
              "         [-3.82289439e-02, -4.33193371e-02, -6.44049793e-02, ...,\n",
              "           4.23153490e-02, -5.24340197e-02,  5.60577214e-02],\n",
              "         [ 1.62570346e-02, -3.16793248e-02,  2.40642168e-02, ...,\n",
              "           4.51574661e-02,  6.12155953e-03, -6.24294579e-02]],\n",
              "\n",
              "        [[-1.61817856e-02,  4.41928878e-02,  1.11711435e-01, ...,\n",
              "           6.62826747e-02, -3.85405570e-02,  3.00349854e-03],\n",
              "         [ 1.81835797e-02,  3.76550406e-02,  7.25143170e-03, ...,\n",
              "           4.87979427e-02, -1.57501176e-01, -2.45172437e-02],\n",
              "         [ 4.39606905e-02,  1.13416249e-02,  8.42144191e-02, ...,\n",
              "          -2.36527119e-02,  1.12967253e-01, -6.87116310e-02],\n",
              "         ...,\n",
              "         [ 2.57303175e-02, -2.34563760e-02,  2.96139773e-02, ...,\n",
              "          -1.66082140e-02, -4.49798331e-02,  3.37931095e-03],\n",
              "         [-2.54379790e-02,  6.75698696e-03, -5.87521717e-02, ...,\n",
              "           1.61507577e-02,  4.73634377e-02,  1.02827223e-02],\n",
              "         [-3.22963931e-02,  3.20150368e-02,  2.73489598e-02, ...,\n",
              "          -6.52302569e-03, -4.52169925e-02,  6.69573843e-02]],\n",
              "\n",
              "        [[ 3.94506007e-02, -3.57860420e-03,  3.02837435e-02, ...,\n",
              "           4.28149365e-02, -8.04105476e-02,  2.62703896e-02],\n",
              "         [ 7.38767833e-02,  1.06564222e-03, -2.16345750e-02, ...,\n",
              "           8.76942798e-02, -3.62947211e-02,  1.66829564e-02],\n",
              "         [ 2.15922669e-02,  7.11208135e-02,  4.06063609e-02, ...,\n",
              "          -3.04818619e-02, -1.65918432e-02, -2.16105990e-02],\n",
              "         ...,\n",
              "         [ 5.15784137e-02, -8.55560601e-03,  2.37028711e-02, ...,\n",
              "           2.24539475e-03,  3.39225866e-02, -1.13079632e-02],\n",
              "         [-7.19123986e-04,  2.01002099e-02,  1.49671249e-02, ...,\n",
              "           2.31478401e-02,  5.50802946e-02, -4.11419524e-03],\n",
              "         [-4.60761860e-02,  1.13099637e-02,  7.90038332e-03, ...,\n",
              "          -5.89369144e-03, -3.74527909e-02,  1.24346162e-03]]]],\n",
              "      dtype=float32)"
            ]
          },
          "metadata": {
            "tags": []
          },
          "execution_count": 22
        }
      ]
    },
    {
      "cell_type": "code",
      "metadata": {
        "id": "DQ5L8ZoZRlpW"
      },
      "source": [
        ""
      ],
      "execution_count": null,
      "outputs": []
    }
  ]
}