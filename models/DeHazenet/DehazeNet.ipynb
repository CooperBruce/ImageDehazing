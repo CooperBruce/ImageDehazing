{
  "nbformat": 4,
  "nbformat_minor": 0,
  "metadata": {
    "kernelspec": {
      "display_name": "Python 3",
      "language": "python",
      "name": "python3"
    },
    "language_info": {
      "codemirror_mode": {
        "name": "ipython",
        "version": 3
      },
      "file_extension": ".py",
      "mimetype": "text/x-python",
      "name": "python",
      "nbconvert_exporter": "python",
      "pygments_lexer": "ipython3",
      "version": "3.7.6"
    },
    "colab": {
      "name": "DehazeNet.ipynb",
      "provenance": []
    }
  },
  "cells": [
    {
      "cell_type": "markdown",
      "metadata": {
        "id": "wIrXkNA9kpPO"
      },
      "source": [
        "# DehazeNet"
      ]
    },
    {
      "cell_type": "code",
      "metadata": {
        "id": "2uzhuUJTkspv"
      },
      "source": [
        "#/content"
      ],
      "execution_count": 5,
      "outputs": []
    },
    {
      "cell_type": "code",
      "metadata": {
        "id": "1loWgiuQCDtY",
        "outputId": "b6b69bb7-f7c1-4911-9f07-f3935a38751b",
        "colab": {
          "base_uri": "https://localhost:8080/"
        }
      },
      "source": [
        "!wget http://www.vision.ee.ethz.ch/ntire18/o-haze/O-HAZE.zip"
      ],
      "execution_count": 3,
      "outputs": [
        {
          "output_type": "stream",
          "text": [
            "--2021-02-11 17:15:58--  http://www.vision.ee.ethz.ch/ntire18/o-haze/O-HAZE.zip\n",
            "Resolving www.vision.ee.ethz.ch (www.vision.ee.ethz.ch)... 129.132.19.216, 2001:67c:10ec:254::216\n",
            "Connecting to www.vision.ee.ethz.ch (www.vision.ee.ethz.ch)|129.132.19.216|:80... connected.\n",
            "HTTP request sent, awaiting response... 301 \n",
            "Location: https://data.vision.ee.ethz.ch/cvl/ntire18//o-haze/O-HAZE.zip [following]\n",
            "--2021-02-11 17:15:59--  https://data.vision.ee.ethz.ch/cvl/ntire18//o-haze/O-HAZE.zip\n",
            "Resolving data.vision.ee.ethz.ch (data.vision.ee.ethz.ch)... 129.132.52.178, 2001:67c:10ec:36c2::178\n",
            "Connecting to data.vision.ee.ethz.ch (data.vision.ee.ethz.ch)|129.132.52.178|:443... connected.\n",
            "HTTP request sent, awaiting response... 200 OK\n",
            "Length: 573320339 (547M) [application/zip]\n",
            "Saving to: ‘O-HAZE.zip’\n",
            "\n",
            "O-HAZE.zip          100%[===================>] 546.76M  26.5MB/s    in 21s     \n",
            "\n",
            "2021-02-11 17:16:21 (25.5 MB/s) - ‘O-HAZE.zip’ saved [573320339/573320339]\n",
            "\n"
          ],
          "name": "stdout"
        }
      ]
    },
    {
      "cell_type": "code",
      "metadata": {
        "id": "zCm1jYDuF6G0"
      },
      "source": [
        "import os\n",
        "import numpy as np\n",
        "import matplotlib.pyplot as plt\n",
        "%matplotlib inline\n",
        "import glob\n",
        "import random\n",
        "from PIL import Image\n",
        "import time\n",
        "\n",
        "import tensorflow as tf\n",
        "from tensorflow.keras.layers import *\n",
        "from tensorflow.keras.preprocessing import image\n",
        "from tensorflow.keras.models import Model\n",
        "from tensorflow.keras.losses import mean_squared_error\n",
        "from tensorflow.keras.optimizers import Adam\n",
        "BATCH_SIZE = 128\n",
        "EPOCH = 10\n"
      ],
      "execution_count": 7,
      "outputs": []
    },
    {
      "cell_type": "code",
      "metadata": {
        "id": "zOwfo55WGBnm"
      },
      "source": [
        "\n",
        "class DehazeNet(Model):\n",
        "  def __init__(self, input=16, groups=4):\n",
        "    super(DehazeNet, self).__init__()\n",
        "    self.input = input\n",
        "    self.groups = groups\n",
        "    self.conv1=tf.keras.layers.Conv2D(self.input,kernel_size=5)\n",
        "    self.conv2=tf.keras.layers.Conv2D(16,kernel_size=3,padding=1)\n",
        "    self.conv3=tf.keras.layers.Conv2D(16,kernel_size=5,padding=2)\n",
        "    self.conv4=tf.keras.layers.Conv2D(16,kernel_size=7,padding=3)\n",
        "    self.maxpool=tf.keras.layers.MaxPool2D(7,1)\n",
        "    self.conv5=tf.keras.layers.Conv2D(1,kernel_size=6)\n",
        "    self.brelu=tf.keras.activations.relu(max_value=1)\n",
        "\n",
        "  def Maxout(self,x,groups):\n",
        "    x = x.reshape(x.shape[0], groups, x.shape[1]//groups, x.shape[2], x.shape[3])\n",
        "    x, y = np.max(x, dim=2, keepdim=True)\n",
        "    out = x.reshape(x.shape[0],-1, x.shape[3], x.shape[4])\n",
        "    return out\n",
        "\n",
        "  def call(self, x):\n",
        "    out = self.conv1(x)\n",
        "    out = self.Maxout(out, self.groups)\n",
        "    out1 = self.conv2(out)\n",
        "    out2 = self.conv3(out)\n",
        "    out3 = self.conv4(out)\n",
        "    y = tf.concat((out1,out2,out3), dim=1)\n",
        "\t\t#print(y.shape[0],y.shape[1],y.shape[2],y.shape[3],)\n",
        "    y = self.maxpool(y)\n",
        "\t\t#print(y.shape[0],y.shape[1],y.shape[2],y.shape[3],)\n",
        "    y = self.conv5(y)\n",
        "\t\t# y = self.relu(y)\n",
        "\t\t# y = self.BRelu(y)\n",
        "\t\t#y = torch.min(y, torch.ones(y.shape[0],y.shape[1],y.shape[2],y.shape[3]))\n",
        "    y = self.brelu(y)\n",
        "    y = y.reshape(y.shape[0],-1)\n",
        "    return y"
      ],
      "execution_count": 21,
      "outputs": []
    },
    {
      "cell_type": "code",
      "metadata": {
        "id": "YoiOAprCMx6Q",
        "outputId": "171c83a0-ef08-480c-99ae-994ce703d01a",
        "colab": {
          "base_uri": "https://localhost:8080/",
          "height": 140
        }
      },
      "source": [
        "'''class DehazeNet(Model):\n",
        "  def __init__(self):\n",
        "    super(DehazeNet, self).__init__()\n",
        "    inputs = tf.keras.Input(shape = [550,413,3])\n",
        "    conv1 = Conv2D(input_shape = (550, 413, 3), filters = 3, kernel_size = 1, strides = 1, padding = 'same', use_bias = True,\n",
        "                   kernel_initializer = tf.random_normal_initializer(stddev = 0.02), kernel_regularizer = tf.keras.regularizers.l2(1e-2))(inputs)\n",
        "    conv2 = Conv2D(filters = 3, kernel_size = 3, strides = 1, padding = 'same', use_bias = True,\n",
        "                   kernel_initializer = tf.random_normal_initializer(stddev = 0.02), kernel_regularizer = tf.keras.regularizers.l2(1e-2))(conv1)\n",
        "    concat1 = tf.concat([conv1,conv2], axis = -1)\n",
        "    \n",
        "    conv3 = Conv2D(filters = 3, kernel_size = 5, strides = 1, padding = 'same', use_bias = True,\n",
        "                   kernel_initializer = tf.random_normal_initializer(stddev = 0.02), kernel_regularizer = tf.keras.regularizers.l2(1e-2))(concat1)\n",
        "    concat2 = tf.concat([conv2,conv3], axis = -1)\n",
        "    \n",
        "    conv4 = Conv2D(filters = 3, kernel_size = 7, strides = 1, padding = 'same', use_bias = True,\n",
        "                   kernel_initializer = tf.random_normal_initializer(stddev = 0.02), kernel_regularizer = tf.keras.regularizers.l2(1e-2))(concat2)\n",
        "    concat3 = tf.concat([conv1,conv2,conv3,conv4], axis = -1)\n",
        "    \n",
        "    conv5 = Conv2D(filters = 3, kernel_size = 3, strides = 1, padding = 'same', use_bias = True,\n",
        "                   kernel_initializer = tf.random_normal_initializer(stddev = 0.02), kernel_regularizer = tf.keras.regularizers.l2(1e-2))(concat3)\n",
        "    K = conv5\n",
        "    output = ReLU(max_value = 1.0)(tf.math.multiply(K,inputs) - K + 1.0)\n",
        "'''\n"
      ],
      "execution_count": 23,
      "outputs": [
        {
          "output_type": "execute_result",
          "data": {
            "application/vnd.google.colaboratory.intrinsic+json": {
              "type": "string"
            },
            "text/plain": [
              "\"class DehazeNet(Model):\\n  def __init__(self):\\n    super(DehazeNet, self).__init__()\\n    inputs = tf.keras.Input(shape = [550,413,3])\\n    conv1 = Conv2D(input_shape = (550, 413, 3), filters = 3, kernel_size = 1, strides = 1, padding = 'same', use_bias = True,\\n                   kernel_initializer = tf.random_normal_initializer(stddev = 0.02), kernel_regularizer = tf.keras.regularizers.l2(1e-2))(inputs)\\n    conv2 = Conv2D(filters = 3, kernel_size = 3, strides = 1, padding = 'same', use_bias = True,\\n                   kernel_initializer = tf.random_normal_initializer(stddev = 0.02), kernel_regularizer = tf.keras.regularizers.l2(1e-2))(conv1)\\n    concat1 = tf.concat([conv1,conv2], axis = -1)\\n    \\n    conv3 = Conv2D(filters = 3, kernel_size = 5, strides = 1, padding = 'same', use_bias = True,\\n                   kernel_initializer = tf.random_normal_initializer(stddev = 0.02), kernel_regularizer = tf.keras.regularizers.l2(1e-2))(concat1)\\n    concat2 = tf.concat([conv2,conv3], axis = -1)\\n    \\n    conv4 = Conv2D(filters = 3, kernel_size = 7, strides = 1, padding = 'same', use_bias = True,\\n                   kernel_initializer = tf.random_normal_initializer(stddev = 0.02), kernel_regularizer = tf.keras.regularizers.l2(1e-2))(concat2)\\n    concat3 = tf.concat([conv1,conv2,conv3,conv4], axis = -1)\\n    \\n    conv5 = Conv2D(filters = 3, kernel_size = 3, strides = 1, padding = 'same', use_bias = True,\\n                   kernel_initializer = tf.random_normal_initializer(stddev = 0.02), kernel_regularizer = tf.keras.regularizers.l2(1e-2))(concat3)\\n    K = conv5\\n    output = ReLU(max_value = 1.0)(tf.math.multiply(K,inputs) - K + 1.0)\\n\""
            ]
          },
          "metadata": {
            "tags": []
          },
          "execution_count": 23
        }
      ]
    },
    {
      "cell_type": "code",
      "metadata": {
        "id": "uje_Xg2TOLDl"
      },
      "source": [
        ""
      ],
      "execution_count": 10,
      "outputs": []
    },
    {
      "cell_type": "code",
      "metadata": {
        "id": "zb5iQ2FfOdLw"
      },
      "source": [
        ""
      ],
      "execution_count": null,
      "outputs": []
    }
  ]
}