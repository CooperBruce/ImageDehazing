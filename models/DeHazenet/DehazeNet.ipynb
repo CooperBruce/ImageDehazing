{
  "nbformat": 4,
  "nbformat_minor": 0,
  "metadata": {
    "kernelspec": {
      "display_name": "Python 3",
      "language": "python",
      "name": "python3"
    },
    "language_info": {
      "codemirror_mode": {
        "name": "ipython",
        "version": 3
      },
      "file_extension": ".py",
      "mimetype": "text/x-python",
      "name": "python",
      "nbconvert_exporter": "python",
      "pygments_lexer": "ipython3",
      "version": "3.7.6"
    },
    "colab": {
      "name": "DehazeNet.ipynb",
      "provenance": []
    }
  },
  "cells": [
    {
      "cell_type": "markdown",
      "metadata": {
        "id": "wIrXkNA9kpPO"
      },
      "source": [
        "# DehazeNet"
      ]
    },
    {
      "cell_type": "code",
      "metadata": {
        "id": "2uzhuUJTkspv"
      },
      "source": [
        "#/content"
      ],
      "execution_count": 5,
      "outputs": []
    },
    {
      "cell_type": "code",
      "metadata": {
        "colab": {
          "base_uri": "https://localhost:8080/"
        },
        "id": "1loWgiuQCDtY",
        "outputId": "e9e5386c-e735-4021-b21f-ccfc74931255"
      },
      "source": [
        "!wget http://www.vision.ee.ethz.ch/ntire18/o-haze/O-HAZE.zip"
      ],
      "execution_count": 10,
      "outputs": [
        {
          "output_type": "stream",
          "text": [
            "--2021-02-11 18:10:43--  http://www.vision.ee.ethz.ch/ntire18/o-haze/O-HAZE.zip\n",
            "Resolving www.vision.ee.ethz.ch (www.vision.ee.ethz.ch)... 129.132.19.216, 2001:67c:10ec:254::216\n",
            "Connecting to www.vision.ee.ethz.ch (www.vision.ee.ethz.ch)|129.132.19.216|:80... connected.\n",
            "HTTP request sent, awaiting response... 301 \n",
            "Location: https://data.vision.ee.ethz.ch/cvl/ntire18//o-haze/O-HAZE.zip [following]\n",
            "--2021-02-11 18:10:43--  https://data.vision.ee.ethz.ch/cvl/ntire18//o-haze/O-HAZE.zip\n",
            "Resolving data.vision.ee.ethz.ch (data.vision.ee.ethz.ch)... 129.132.52.178, 2001:67c:10ec:36c2::178\n",
            "Connecting to data.vision.ee.ethz.ch (data.vision.ee.ethz.ch)|129.132.52.178|:443... connected.\n",
            "HTTP request sent, awaiting response... 200 OK\n",
            "Length: 573320339 (547M) [application/zip]\n",
            "Saving to: ‘O-HAZE.zip’\n",
            "\n",
            "O-HAZE.zip          100%[===================>] 546.76M  10.9MB/s    in 53s     \n",
            "\n",
            "2021-02-11 18:11:37 (10.4 MB/s) - ‘O-HAZE.zip’ saved [573320339/573320339]\n",
            "\n"
          ],
          "name": "stdout"
        }
      ]
    },
    {
      "cell_type": "code",
      "metadata": {
        "id": "PaDSFgxNS1kZ",
        "outputId": "bdf23318-c9c0-4f86-bb7d-fef559614b64",
        "colab": {
          "base_uri": "https://localhost:8080/"
        }
      },
      "source": [
        "!unzip O-HAZE.zip"
      ],
      "execution_count": 13,
      "outputs": [
        {
          "output_type": "stream",
          "text": [
            "Archive:  O-HAZE.zip\n",
            "   creating: # O-HAZY NTIRE 2018/\n",
            "   creating: # O-HAZY NTIRE 2018/GT/\n",
            " extracting: # O-HAZY NTIRE 2018/GT/01_outdoor_GT.jpg  \n",
            "  inflating: # O-HAZY NTIRE 2018/GT/02_outdoor_GT.jpg  \n",
            "  inflating: # O-HAZY NTIRE 2018/GT/03_outdoor_GT.JPG  \n",
            "  inflating: # O-HAZY NTIRE 2018/GT/04_outdoor_GT.jpg  \n",
            " extracting: # O-HAZY NTIRE 2018/GT/05_outdoor_GT.jpg  \n",
            " extracting: # O-HAZY NTIRE 2018/GT/06_outdoor_GT.jpg  \n",
            " extracting: # O-HAZY NTIRE 2018/GT/07_outdoor_GT.jpg  \n",
            "  inflating: # O-HAZY NTIRE 2018/GT/08_outdoor_GT.jpg  \n",
            " extracting: # O-HAZY NTIRE 2018/GT/09_outdoor_GT.jpg  \n",
            " extracting: # O-HAZY NTIRE 2018/GT/10_outdoor_GT.jpg  \n",
            " extracting: # O-HAZY NTIRE 2018/GT/11_outdoor_GT.jpg  \n",
            " extracting: # O-HAZY NTIRE 2018/GT/12_outdoor_GT.jpg  \n",
            " extracting: # O-HAZY NTIRE 2018/GT/13_outdoor_GT.jpg  \n",
            " extracting: # O-HAZY NTIRE 2018/GT/14_outdoor_GT.jpg  \n",
            " extracting: # O-HAZY NTIRE 2018/GT/15_outdoor_GT.jpg  \n",
            " extracting: # O-HAZY NTIRE 2018/GT/16_outdoor_GT.jpg  \n",
            " extracting: # O-HAZY NTIRE 2018/GT/17_outdoor_GT.jpg  \n",
            " extracting: # O-HAZY NTIRE 2018/GT/18_outdoor_GT.jpg  \n",
            "  inflating: # O-HAZY NTIRE 2018/GT/19_outdoor_GT.jpg  \n",
            " extracting: # O-HAZY NTIRE 2018/GT/20_outdoor_GT.jpg  \n",
            "  inflating: # O-HAZY NTIRE 2018/GT/21_outdoor_GT.JPG  \n",
            " extracting: # O-HAZY NTIRE 2018/GT/22_outdoor_GT.jpg  \n",
            " extracting: # O-HAZY NTIRE 2018/GT/23_outdoor_GT.jpg  \n",
            " extracting: # O-HAZY NTIRE 2018/GT/24_outdoor_GT.jpg  \n",
            " extracting: # O-HAZY NTIRE 2018/GT/25_outdoor_GT.jpg  \n",
            "  inflating: # O-HAZY NTIRE 2018/GT/26_outdoor_GT.jpg  \n",
            " extracting: # O-HAZY NTIRE 2018/GT/27_outdoor_GT.jpg  \n",
            " extracting: # O-HAZY NTIRE 2018/GT/28_outdoor_GT.jpg  \n",
            " extracting: # O-HAZY NTIRE 2018/GT/29_outdoor_GT.jpg  \n",
            "  inflating: # O-HAZY NTIRE 2018/GT/30_outdoor_GT.jpg  \n",
            "  inflating: # O-HAZY NTIRE 2018/GT/31_outdoor_GT.jpg  \n",
            " extracting: # O-HAZY NTIRE 2018/GT/32_outdoor_GT.jpg  \n",
            " extracting: # O-HAZY NTIRE 2018/GT/33_outdoor_GT.jpg  \n",
            " extracting: # O-HAZY NTIRE 2018/GT/34_outdoor_GT.jpg  \n",
            "  inflating: # O-HAZY NTIRE 2018/GT/35_outdoor_GT.jpg  \n",
            " extracting: # O-HAZY NTIRE 2018/GT/36_outdoor_GT.jpg  \n",
            " extracting: # O-HAZY NTIRE 2018/GT/37_outdoor_GT.jpg  \n",
            " extracting: # O-HAZY NTIRE 2018/GT/38_outdoor_GT.jpg  \n",
            " extracting: # O-HAZY NTIRE 2018/GT/39_outdoor_GT.jpg  \n",
            " extracting: # O-HAZY NTIRE 2018/GT/40_outdoor_GT.jpg  \n",
            "  inflating: # O-HAZY NTIRE 2018/GT/41_outdoor_GT.jpg  \n",
            " extracting: # O-HAZY NTIRE 2018/GT/42_outdoor_GT.jpg  \n",
            " extracting: # O-HAZY NTIRE 2018/GT/43_outdoor_GT.jpg  \n",
            "  inflating: # O-HAZY NTIRE 2018/GT/44_outdoor_GT.jpg  \n",
            " extracting: # O-HAZY NTIRE 2018/GT/45_outdoor_GT.jpg  \n",
            "   creating: # O-HAZY NTIRE 2018/hazy/\n",
            " extracting: # O-HAZY NTIRE 2018/hazy/01_outdoor_hazy.jpg  \n",
            "  inflating: # O-HAZY NTIRE 2018/hazy/02_outdoor_hazy.jpg  \n",
            "  inflating: # O-HAZY NTIRE 2018/hazy/03_outdoor_hazy.JPG  \n",
            "  inflating: # O-HAZY NTIRE 2018/hazy/04_outdoor_hazy.jpg  \n",
            "  inflating: # O-HAZY NTIRE 2018/hazy/05_outdoor_hazy.jpg  \n",
            "  inflating: # O-HAZY NTIRE 2018/hazy/06_outdoor_hazy.jpg  \n",
            " extracting: # O-HAZY NTIRE 2018/hazy/07_outdoor_hazy.jpg  \n",
            "  inflating: # O-HAZY NTIRE 2018/hazy/08_outdoor_hazy.jpg  \n",
            "  inflating: # O-HAZY NTIRE 2018/hazy/09_outdoor_hazy.jpg  \n",
            "  inflating: # O-HAZY NTIRE 2018/hazy/10_outdoor_hazy.jpg  \n",
            "  inflating: # O-HAZY NTIRE 2018/hazy/11_outdoor_hazy.jpg  \n",
            " extracting: # O-HAZY NTIRE 2018/hazy/12_outdoor_hazy.jpg  \n",
            " extracting: # O-HAZY NTIRE 2018/hazy/13_outdoor_hazy.jpg  \n",
            "  inflating: # O-HAZY NTIRE 2018/hazy/14_outdoor_hazy.jpg  \n",
            "  inflating: # O-HAZY NTIRE 2018/hazy/15_outdoor_hazy.jpg  \n",
            "  inflating: # O-HAZY NTIRE 2018/hazy/16_outdoor_hazy.jpg  \n",
            "  inflating: # O-HAZY NTIRE 2018/hazy/17_outdoor_hazy.jpg  \n",
            " extracting: # O-HAZY NTIRE 2018/hazy/18_outdoor_hazy.jpg  \n",
            "  inflating: # O-HAZY NTIRE 2018/hazy/19_outdoor_hazy.jpg  \n",
            "  inflating: # O-HAZY NTIRE 2018/hazy/20_outdoor_hazy.jpg  \n",
            "  inflating: # O-HAZY NTIRE 2018/hazy/21_outdoor_hazy.JPG  \n",
            " extracting: # O-HAZY NTIRE 2018/hazy/22_outdoor_hazy.jpg  \n",
            " extracting: # O-HAZY NTIRE 2018/hazy/23_outdoor_hazy.jpg  \n",
            "  inflating: # O-HAZY NTIRE 2018/hazy/24_outdoor_hazy.jpg  \n",
            "  inflating: # O-HAZY NTIRE 2018/hazy/25_outdoor_hazy.jpg  \n",
            "  inflating: # O-HAZY NTIRE 2018/hazy/26_outdoor_hazy.jpg  \n",
            "  inflating: # O-HAZY NTIRE 2018/hazy/27_outdoor_hazy.jpg  \n",
            "  inflating: # O-HAZY NTIRE 2018/hazy/28_outdoor_hazy.jpg  \n",
            "  inflating: # O-HAZY NTIRE 2018/hazy/29_outdoor_hazy.jpg  \n",
            " extracting: # O-HAZY NTIRE 2018/hazy/30_outdoor_hazy.jpg  \n",
            " extracting: # O-HAZY NTIRE 2018/hazy/31_outdoor_hazy.jpg  \n",
            " extracting: # O-HAZY NTIRE 2018/hazy/32_outdoor_hazy.jpg  \n",
            "  inflating: # O-HAZY NTIRE 2018/hazy/33_outdoor_hazy.jpg  \n",
            " extracting: # O-HAZY NTIRE 2018/hazy/34_outdoor_hazy.jpg  \n",
            " extracting: # O-HAZY NTIRE 2018/hazy/35_outdoor_hazy.jpg  \n",
            " extracting: # O-HAZY NTIRE 2018/hazy/36_outdoor_hazy.jpg  \n",
            " extracting: # O-HAZY NTIRE 2018/hazy/37_outdoor_hazy.jpg  \n",
            " extracting: # O-HAZY NTIRE 2018/hazy/38_outdoor_hazy.jpg  \n",
            "  inflating: # O-HAZY NTIRE 2018/hazy/39_outdoor_hazy.jpg  \n",
            "  inflating: # O-HAZY NTIRE 2018/hazy/40_outdoor_hazy.jpg  \n",
            "  inflating: # O-HAZY NTIRE 2018/hazy/41_outdoor_hazy.jpg  \n",
            " extracting: # O-HAZY NTIRE 2018/hazy/42_outdoor_hazy.jpg  \n",
            " extracting: # O-HAZY NTIRE 2018/hazy/43_outdoor_hazy.jpg  \n",
            " extracting: # O-HAZY NTIRE 2018/hazy/44_outdoor_hazy.jpg  \n",
            "  inflating: # O-HAZY NTIRE 2018/hazy/45_outdoor_hazy.jpg  \n"
          ],
          "name": "stdout"
        }
      ]
    },
    {
      "cell_type": "code",
      "metadata": {
        "id": "4XHuTqcmTFy8",
        "outputId": "7dba9aed-ee41-41ba-b2ef-7566bbd1d64a",
        "colab": {
          "base_uri": "https://localhost:8080/"
        }
      },
      "source": [
        ""
      ],
      "execution_count": 15,
      "outputs": [
        {
          "output_type": "stream",
          "text": [
            "mv: missing file operand\n",
            "Try 'mv --help' for more information.\n"
          ],
          "name": "stdout"
        }
      ]
    },
    {
      "cell_type": "code",
      "metadata": {
        "id": "zCm1jYDuF6G0"
      },
      "source": [
        "import os\n",
        "import numpy as np\n",
        "import matplotlib.pyplot as plt\n",
        "%matplotlib inline\n",
        "import glob\n",
        "import random\n",
        "from PIL import Image\n",
        "import time\n",
        "\n",
        "import tensorflow as tf\n",
        "from tensorflow.keras.layers import *\n",
        "from tensorflow.keras.preprocessing import image\n",
        "from tensorflow.keras.models import Model\n",
        "from tensorflow.keras.losses import mean_squared_error\n",
        "from tensorflow.keras.optimizers import Adam\n",
        "BATCH_SIZE = 128\n",
        "EPOCH = 10\n"
      ],
      "execution_count": 1,
      "outputs": []
    },
    {
      "cell_type": "code",
      "metadata": {
        "id": "zOwfo55WGBnm"
      },
      "source": [
        "\n",
        "class DehazeNet(Model):\n",
        "  def __init__(self, inputs=16, groups=4):\n",
        "    super(DehazeNet, self).__init__()\n",
        "    self.inputs = inputs\n",
        "    self.groups = groups\n",
        "    self.conv1=tf.keras.layers.Conv2D(16,kernel_size=5)\n",
        "    self.conv2=tf.keras.layers.Conv2D(16,kernel_size=3,padding='SAME')\n",
        "    self.conv3=tf.keras.layers.Conv2D(16,kernel_size=5,padding='SAME')\n",
        "    self.conv4=tf.keras.layers.Conv2D(16,kernel_size=7,padding='SAME')\n",
        "    self.maxpool=tf.keras.layers.MaxPool2D(7,1)\n",
        "    self.conv5=tf.keras.layers.Conv2D(1,kernel_size=6)\n",
        "    self.brelu=tf.keras.activations.relu\n",
        "\n",
        "  def Maxout(self,x,groups):\n",
        "    x = x.reshape(x.shape[0], groups, x.shape[1]//groups, x.shape[2], x.shape[3])\n",
        "    x, y = np.max(x, dim=2, keepdim=True)\n",
        "    out = x.reshape(x.shape[0],-1, x.shape[3], x.shape[4])\n",
        "    return out\n",
        "\n",
        "  def call(self, x):\n",
        "    out = self.conv1(x)\n",
        "    out = self.Maxout(out, self.groups)\n",
        "    out1 = self.conv2(out)\n",
        "    out2 = self.conv3(out)\n",
        "    out3 = self.conv4(out)\n",
        "    y = tf.concat((out1,out2,out3), dim=1)\n",
        "\t\t#print(y.shape[0],y.shape[1],y.shape[2],y.shape[3],)\n",
        "    y = self.maxpool(y)\n",
        "\t\t#print(y.shape[0],y.shape[1],y.shape[2],y.shape[3],)\n",
        "    y = self.conv5(y)\n",
        "\t\t# y = self.relu(y)\n",
        "\t\t# y = self.BRelu(y)\n",
        "\t\t#y = torch.min(y, torch.ones(y.shape[0],y.shape[1],y.shape[2],y.shape[3]))\n",
        "    y = self.brelu(y)\n",
        "    y = y.reshape(y.shape[0],-1)\n",
        "    return y"
      ],
      "execution_count": 5,
      "outputs": []
    },
    {
      "cell_type": "code",
      "metadata": {
        "id": "uje_Xg2TOLDl"
      },
      "source": [
        "model=DehazeNet()"
      ],
      "execution_count": 6,
      "outputs": []
    },
    {
      "cell_type": "code",
      "metadata": {
        "id": "zb5iQ2FfOdLw"
      },
      "source": [
        "model.build(input_shape=(10, 480, 480, 3))\n",
        "#model.summary()"
      ],
      "execution_count": 9,
      "outputs": []
    },
    {
      "cell_type": "code",
      "metadata": {
        "id": "S8dYwN1ORNJP",
        "outputId": "06b23611-85c5-4211-cba0-dd4ab2b1f0e6",
        "colab": {
          "base_uri": "https://localhost:8080/",
          "height": 324
        }
      },
      "source": [
        "def data_path(orig_img_path, hazy_img_path):\n",
        "    \n",
        "    train_img = []\n",
        "    val_img = []\n",
        "    \n",
        "    orig_img = glob.glob('./# O-HAZY NTIRE 2018/GT/*.jpg')        \n",
        "    hazy_img = glob.glob('./# O-HAZY NTIRE 2018/GT/*.jpg')\n",
        "    \n",
        "    for x in range(45):\n",
        "        if (x < 40):\n",
        "            train_img.append([hazy_img[x], orig_img[x]])\n",
        "        else:\n",
        "            val_img.append([hazy_img[x], orig_img[x]])\n",
        "            \n",
        "    return train_img, val_img\n",
        "\n",
        "epochs = 1\n",
        "batch_size = 3\n",
        "\n",
        "train_data, val_data = data_path(orig_img_path = './# O-HAZY NTIRE 2018/GT', \n",
        "                                 hazy_img_path = './# O-HAZY NTIRE 2018/hazy')\n"
      ],
      "execution_count": 20,
      "outputs": [
        {
          "output_type": "error",
          "ename": "IndexError",
          "evalue": "ignored",
          "traceback": [
            "\u001b[0;31m---------------------------------------------------------------------------\u001b[0m",
            "\u001b[0;31mIndexError\u001b[0m                                Traceback (most recent call last)",
            "\u001b[0;32m<ipython-input-20-6afc2dfc7dbc>\u001b[0m in \u001b[0;36m<module>\u001b[0;34m()\u001b[0m\n\u001b[1;32m     19\u001b[0m \u001b[0;34m\u001b[0m\u001b[0m\n\u001b[1;32m     20\u001b[0m train_data, val_data = data_path(orig_img_path = './# O-HAZY NTIRE 2018/GT', \n\u001b[0;32m---> 21\u001b[0;31m                                  hazy_img_path = './# O-HAZY NTIRE 2018/hazy')\n\u001b[0m",
            "\u001b[0;32m<ipython-input-20-6afc2dfc7dbc>\u001b[0m in \u001b[0;36mdata_path\u001b[0;34m(orig_img_path, hazy_img_path)\u001b[0m\n\u001b[1;32m     11\u001b[0m             \u001b[0mtrain_img\u001b[0m\u001b[0;34m.\u001b[0m\u001b[0mappend\u001b[0m\u001b[0;34m(\u001b[0m\u001b[0;34m[\u001b[0m\u001b[0mhazy_img\u001b[0m\u001b[0;34m[\u001b[0m\u001b[0mx\u001b[0m\u001b[0;34m]\u001b[0m\u001b[0;34m,\u001b[0m \u001b[0morig_img\u001b[0m\u001b[0;34m[\u001b[0m\u001b[0mx\u001b[0m\u001b[0;34m]\u001b[0m\u001b[0;34m]\u001b[0m\u001b[0;34m)\u001b[0m\u001b[0;34m\u001b[0m\u001b[0;34m\u001b[0m\u001b[0m\n\u001b[1;32m     12\u001b[0m         \u001b[0;32melse\u001b[0m\u001b[0;34m:\u001b[0m\u001b[0;34m\u001b[0m\u001b[0;34m\u001b[0m\u001b[0m\n\u001b[0;32m---> 13\u001b[0;31m             \u001b[0mval_img\u001b[0m\u001b[0;34m.\u001b[0m\u001b[0mappend\u001b[0m\u001b[0;34m(\u001b[0m\u001b[0;34m[\u001b[0m\u001b[0mhazy_img\u001b[0m\u001b[0;34m[\u001b[0m\u001b[0mx\u001b[0m\u001b[0;34m]\u001b[0m\u001b[0;34m,\u001b[0m \u001b[0morig_img\u001b[0m\u001b[0;34m[\u001b[0m\u001b[0mx\u001b[0m\u001b[0;34m]\u001b[0m\u001b[0;34m]\u001b[0m\u001b[0;34m)\u001b[0m\u001b[0;34m\u001b[0m\u001b[0;34m\u001b[0m\u001b[0m\n\u001b[0m\u001b[1;32m     14\u001b[0m \u001b[0;34m\u001b[0m\u001b[0m\n\u001b[1;32m     15\u001b[0m     \u001b[0;32mreturn\u001b[0m \u001b[0mtrain_img\u001b[0m\u001b[0;34m,\u001b[0m \u001b[0mval_img\u001b[0m\u001b[0;34m\u001b[0m\u001b[0;34m\u001b[0m\u001b[0m\n",
            "\u001b[0;31mIndexError\u001b[0m: list index out of range"
          ]
        }
      ]
    },
    {
      "cell_type": "code",
      "metadata": {
        "id": "PyR7gWH8SmN8",
        "outputId": "2b9762d3-a1ed-4c74-b3ec-1852e44d8bfa",
        "colab": {
          "base_uri": "https://localhost:8080/"
        }
      },
      "source": [
        "ls"
      ],
      "execution_count": 17,
      "outputs": [
        {
          "output_type": "stream",
          "text": [
            " O-HAZE.zip  \u001b[0m\u001b[01;34m'# O-HAZY NTIRE 2018'\u001b[0m/   \u001b[01;34msample_data\u001b[0m/\n"
          ],
          "name": "stdout"
        }
      ]
    },
    {
      "cell_type": "code",
      "metadata": {
        "id": "wmOyh8cqSm7h",
        "outputId": "13c09e52-cabd-439f-856b-32ade6149e64",
        "colab": {
          "base_uri": "https://localhost:8080/"
        }
      },
      "source": [
        "ls ./# O-HAZY NTIRE 2018/GT\n"
      ],
      "execution_count": 19,
      "outputs": [
        {
          "output_type": "stream",
          "text": [
            "ls: cannot access './#': No such file or directory\n",
            "ls: cannot access 'O-HAZY': No such file or directory\n",
            "ls: cannot access 'NTIRE': No such file or directory\n",
            "ls: cannot access '2018/GT': No such file or directory\n"
          ],
          "name": "stdout"
        }
      ]
    },
    {
      "cell_type": "code",
      "metadata": {
        "id": "93Kmt0-vT4py"
      },
      "source": [
        ""
      ],
      "execution_count": null,
      "outputs": []
    }
  ]
}