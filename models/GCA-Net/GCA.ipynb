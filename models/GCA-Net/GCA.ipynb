{
  "nbformat": 4,
  "nbformat_minor": 0,
  "metadata": {
    "colab": {
      "name": "GCA.ipynb",
      "provenance": []
    },
    "kernelspec": {
      "name": "python3",
      "display_name": "Python 3"
    }
  },
  "cells": [
    {
      "cell_type": "markdown",
      "metadata": {
        "id": "zPOzVJaQzpcn"
      },
      "source": [
        "# GCA-Net\n"
      ]
    },
    {
      "cell_type": "code",
      "metadata": {
        "id": "lZi-UDGUzs0b"
      },
      "source": [
        "import tensorflow as tf\n",
        "from tensorflow.keras import Model\n",
        "from tensorflow.keras import layers as Layers\n"
      ],
      "execution_count": 18,
      "outputs": []
    },
    {
      "cell_type": "code",
      "metadata": {
        "id": "Wf2uZXGiBAHL"
      },
      "source": [
        "class ShareSepConv(Model):\n",
        "  def __init__(self,kernel_size):\n",
        "    super(ShareSepConv,self).__init__()\n",
        "    assert kernel_size%2==1;# kernel should be odd\n",
        "    self.padding = (kernel_size - 1)//2\n",
        "\n",
        "  def call(self,x):\n",
        "    inc=x.size(1) \n",
        "    return tf.keras.layers.Conv2D(x,64,None,1,self.padding,1,inc)"
      ],
      "execution_count": 17,
      "outputs": []
    },
    {
      "cell_type": "code",
      "metadata": {
        "id": "BXJ7O0VtX0FY"
      },
      "source": [
        "class SmoothDilatedResidualBlock(Model):\n",
        "  def __init__(self,channel_num,dilation=1,group=1):\n",
        "    super(SmoothDilatedResidualBlock,self).__init__()\n",
        "    "
      ],
      "execution_count": 11,
      "outputs": []
    },
    {
      "cell_type": "code",
      "metadata": {
        "id": "lHqTjMtbYSSP",
        "outputId": "1bfe2d87-89d2-40d5-ba16-c528cae5beae",
        "colab": {
          "base_uri": "https://localhost:8080/",
          "height": 167
        }
      },
      "source": [
        "  "
      ],
      "execution_count": 13,
      "outputs": [
        {
          "output_type": "error",
          "ename": "TypeError",
          "evalue": "ignored",
          "traceback": [
            "\u001b[0;31m---------------------------------------------------------------------------\u001b[0m",
            "\u001b[0;31mTypeError\u001b[0m                                 Traceback (most recent call last)",
            "\u001b[0;32m<ipython-input-13-6fbdd861bbb8>\u001b[0m in \u001b[0;36m<module>\u001b[0;34m()\u001b[0m\n\u001b[0;32m----> 1\u001b[0;31m \u001b[0mx\u001b[0m\u001b[0;34m.\u001b[0m\u001b[0msize\u001b[0m\u001b[0;34m(\u001b[0m\u001b[0;36m1\u001b[0m\u001b[0;34m)\u001b[0m\u001b[0;34m\u001b[0m\u001b[0;34m\u001b[0m\u001b[0m\n\u001b[0m",
            "\u001b[0;31mTypeError\u001b[0m: 'int' object is not callable"
          ]
        }
      ]
    },
    {
      "cell_type": "code",
      "metadata": {
        "id": "dCiuVN4hYTsZ"
      },
      "source": [
        ""
      ],
      "execution_count": null,
      "outputs": []
    }
  ]
}