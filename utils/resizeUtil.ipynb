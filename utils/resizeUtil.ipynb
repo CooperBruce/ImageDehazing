{
 "cells": [
  {
   "cell_type": "code",
   "execution_count": 4,
   "metadata": {},
   "outputs": [],
   "source": [
    "import tensorflow as tf\n",
    "import glob"
   ]
  },
  {
   "cell_type": "code",
   "execution_count": 9,
   "metadata": {},
   "outputs": [],
   "source": [
    "orig_img = glob.glob('../ohaze/GT/*.jpg')"
   ]
  },
  {
   "cell_type": "code",
   "execution_count": 11,
   "metadata": {},
   "outputs": [],
   "source": [
    "for img in orig_img:\n",
    "    img1 = tf.io.read_file(img)\n",
    "    img1 = tf.io.decode_jpeg(img1, channels = 3)\n",
    "    img1 = tf.image.resize(img1, size = (412,548), antialias = True)\n",
    "    pth=img.split('/')[-1]\n",
    "    tf.keras.preprocessing.image.save_img(pth,img1)\n",
    "    #break;"
   ]
  },
  {
   "cell_type": "code",
   "execution_count": 10,
   "metadata": {},
   "outputs": [
    {
     "data": {
      "text/plain": [
       "['../ohaze/GT/05_outdoor_GT.jpg',\n",
       " '../ohaze/GT/17_outdoor_GT.jpg',\n",
       " '../ohaze/GT/09_outdoor_GT.jpg',\n",
       " '../ohaze/GT/28_outdoor_GT.jpg',\n",
       " '../ohaze/GT/43_outdoor_GT.jpg',\n",
       " '../ohaze/GT/25_outdoor_GT.jpg',\n",
       " '../ohaze/GT/27_outdoor_GT.jpg',\n",
       " '../ohaze/GT/08_outdoor_GT.jpg',\n",
       " '../ohaze/GT/02_outdoor_GT.jpg',\n",
       " '../ohaze/GT/29_outdoor_GT.jpg',\n",
       " '../ohaze/GT/44_outdoor_GT.jpg',\n",
       " '../ohaze/GT/37_outdoor_GT.jpg',\n",
       " '../ohaze/GT/21_outdoor_GT.jpg',\n",
       " '../ohaze/GT/24_outdoor_GT.jpg',\n",
       " '../ohaze/GT/34_outdoor_GT.jpg',\n",
       " '../ohaze/GT/14_outdoor_GT.jpg',\n",
       " '../ohaze/GT/40_outdoor_GT.jpg',\n",
       " '../ohaze/GT/19_outdoor_GT.jpg',\n",
       " '../ohaze/GT/39_outdoor_GT.jpg',\n",
       " '../ohaze/GT/07_outdoor_GT.jpg',\n",
       " '../ohaze/GT/42_outdoor_GT.jpg',\n",
       " '../ohaze/GT/13_outdoor_GT.jpg',\n",
       " '../ohaze/GT/30_outdoor_GT.jpg',\n",
       " '../ohaze/GT/35_outdoor_GT.jpg',\n",
       " '../ohaze/GT/06_outdoor_GT.jpg',\n",
       " '../ohaze/GT/38_outdoor_GT.jpg',\n",
       " '../ohaze/GT/22_outdoor_GT.jpg',\n",
       " '../ohaze/GT/11_outdoor_GT.jpg',\n",
       " '../ohaze/GT/32_outdoor_GT.jpg',\n",
       " '../ohaze/GT/16_outdoor_GT.jpg',\n",
       " '../ohaze/GT/33_outdoor_GT.jpg',\n",
       " '../ohaze/GT/04_outdoor_GT.jpg',\n",
       " '../ohaze/GT/45_outdoor_GT.jpg',\n",
       " '../ohaze/GT/18_outdoor_GT.jpg',\n",
       " '../ohaze/GT/03_outdoor_GT.jpg',\n",
       " '../ohaze/GT/26_outdoor_GT.jpg',\n",
       " '../ohaze/GT/31_outdoor_GT.jpg',\n",
       " '../ohaze/GT/23_outdoor_GT.jpg',\n",
       " '../ohaze/GT/12_outdoor_GT.jpg',\n",
       " '../ohaze/GT/01_outdoor_GT.jpg',\n",
       " '../ohaze/GT/15_outdoor_GT.jpg',\n",
       " '../ohaze/GT/41_outdoor_GT.jpg',\n",
       " '../ohaze/GT/20_outdoor_GT.jpg',\n",
       " '../ohaze/GT/36_outdoor_GT.jpg',\n",
       " '../ohaze/GT/10_outdoor_GT.jpg']"
      ]
     },
     "execution_count": 10,
     "metadata": {},
     "output_type": "execute_result"
    }
   ],
   "source": [
    "orig_img"
   ]
  },
  {
   "cell_type": "code",
   "execution_count": 8,
   "metadata": {},
   "outputs": [
    {
     "name": "stdout",
     "output_type": "stream",
     "text": [
      "/home/abu/8semProject/ResZ\n"
     ]
    }
   ],
   "source": [
    "cd ResZ/\n"
   ]
  },
  {
   "cell_type": "code",
   "execution_count": 26,
   "metadata": {},
   "outputs": [],
   "source": [
    "a=cv2.imread('16_outdoor_hazy.jpg')"
   ]
  },
  {
   "cell_type": "code",
   "execution_count": 27,
   "metadata": {},
   "outputs": [
    {
     "data": {
      "text/plain": [
       "numpy.ndarray"
      ]
     },
     "execution_count": 27,
     "metadata": {},
     "output_type": "execute_result"
    }
   ],
   "source": [
    "type(a)"
   ]
  },
  {
   "cell_type": "code",
   "execution_count": 28,
   "metadata": {},
   "outputs": [
    {
     "data": {
      "text/plain": [
       "(412, 548, 3)"
      ]
     },
     "execution_count": 28,
     "metadata": {},
     "output_type": "execute_result"
    }
   ],
   "source": [
    "a.shape"
   ]
  },
  {
   "cell_type": "code",
   "execution_count": null,
   "metadata": {},
   "outputs": [],
   "source": []
  }
 ],
 "metadata": {
  "kernelspec": {
   "display_name": "Python 3",
   "language": "python",
   "name": "python3"
  },
  "language_info": {
   "codemirror_mode": {
    "name": "ipython",
    "version": 3
   },
   "file_extension": ".py",
   "mimetype": "text/x-python",
   "name": "python",
   "nbconvert_exporter": "python",
   "pygments_lexer": "ipython3",
   "version": "3.7.6"
  }
 },
 "nbformat": 4,
 "nbformat_minor": 4
}
